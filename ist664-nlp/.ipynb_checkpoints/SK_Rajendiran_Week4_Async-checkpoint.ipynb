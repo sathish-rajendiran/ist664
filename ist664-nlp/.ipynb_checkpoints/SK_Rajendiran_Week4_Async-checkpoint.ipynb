{
 "cells": [
  {
   "cell_type": "markdown",
   "metadata": {},
   "source": [
    "Name: Sathish Kumar Rajendiran\n",
    "Chapter :  POS Tagging and Introduction to Machine Learning\n",
    "Date: 10/23/2020\n",
    "Week: 4"
   ]
  },
  {
   "cell_type": "code",
   "execution_count": 1,
   "metadata": {},
   "outputs": [
    {
     "data": {
      "text/plain": [
       "'/Users/sathishrajendiran/ist664-nlp'"
      ]
     },
     "execution_count": 1,
     "metadata": {},
     "output_type": "execute_result"
    }
   ],
   "source": [
    "#import libraries\n",
    "\n",
    "# standard library\n",
    "import os\n",
    "import sys\n",
    "from datetime import datetime\n",
    "import time\n",
    "\n",
    "# csv, xls, pandas & json\n",
    "import pandas as pd\n",
    "import json\n",
    "import csv\n",
    "import xlrd\n",
    "\n",
    "# Language Processing\n",
    "import nltk\n",
    "from nltk import FreqDist\n",
    "\n",
    "# web requests\n",
    "from urllib import request\n",
    "\n",
    "\n",
    "##  Regular Expression to match non-alphabetic characters\n",
    "import re\n",
    "\n",
    "os.getcwd()"
   ]
  },
  {
   "cell_type": "markdown",
   "metadata": {},
   "source": [
    "# Question 1: POS Tagging Probabilities: Tag Transitions"
   ]
  },
  {
   "cell_type": "code",
   "execution_count": 2,
   "metadata": {},
   "outputs": [],
   "source": [
    "text1 = '''\n",
    "NNP/ Houston ,/ , NNP/ Monday ,/ , NNP/ July CD/ 21 :/ -- NN/ Men VBP/ have VBD/ landed CC/ and VBD/ walked IN/ on DT/ the NN/ moon ./ . CD/ Two NNPS/ Americans ,/ , NNS/ astronauts IN/ of NNP/ Apollo CD/ 11 ,/ , VBD/ steered PRP$/ their JJ/ fragile JJ/ four-legged NN/ lunar VB/ module RB/ safely CC/ and RB/ smoothly TO/ to DT/ the JJ/ historic NN/ landing NN/ yesterday IN/ at NN/ 4:17:40 NNP/ P.M. ,/ , NNP/ Eastern NN/ daylight NN/ time ./ . NNP/ Neil NNP/ A. NNP/ Armstrong ,/ , DT/ the JJ/ 38-year-old JJ/ civilian NN/ commander ,/ , VBD/ radioed TO/ to NN/ earth CC/ and DT/ the NN/ mission NN/ control NN/ room RB/ here :/ : ``/ \" NNP/ Houston ,/ , NNP/ Tranquility NNP/ Base RB/ here :/ ; DT/ the NNP/ Eagle VBZ/ has VBN/ landed . . ''/ \"\n",
    "DT/ The JJ /first NNS/ men TO/ to VB/ reach DT/ the NN/ moon :/ -- NNP/ Mr. NNP/ Armstrong CC/ and PRP$/ his NNS/ co-pilot ,/ , NNP/ Col. NNP/ Edwin NNP/ E. NNP/ Aldrin ,/ , NNP/ Jr. IN/ of DT/ the NNP/ Air NNP/ Force :/ -- VBD/ brought PRP$/ their NN/ ship TO/ to VB/ rest IN/ on DT/ a NN/ level ,/ , NN/ rock-strewn NN/ plain IN/ near DT/ the JJ/ southwestern NN/ shore IN/ of DT/ the NN/ arid NNP/ Sea IN/ of NN/ Tranquility ./ . IN/ About CD/ six CC/ and DT/ a JJ/ half NNS/ hours RB/ later ,/ , NNP/ Mr. NNP/ Armstrong VBD/ opened DT/ the NN/ landing NN/ craft POS/ 's NN/ hatch ,/ , VBD/ stepped RB/ slowly IN/ down DT/ the NN/ ladder CC/ and VBD/ declared IN/ as PRP/ he VBD/ planted DT /the JJ/ first NN/ human NN/ footprint IN/ on DT/ the NN/ lunar NN/ crust :/ : ``/ \" DT/ That VBZ/ 's CD/ one JJ/ small NN/ step IN/ for NN/ man ,/ , CD/ one JJ/ giant NN/ leap IN/ for NN/ mankind ./ . ''/ \"\n",
    "'''"
   ]
  },
  {
   "cell_type": "markdown",
   "metadata": {},
   "source": [
    "### 1: P(VB|TO) and P(NN|TO)"
   ]
  },
  {
   "cell_type": "code",
   "execution_count": 39,
   "metadata": {},
   "outputs": [
    {
     "name": "stdout",
     "output_type": "stream",
     "text": [
      "Found a match:\n",
      " ['TO', 'TO', 'TO', 'TO'] \n",
      "Number of matches: 4\n",
      "Found a match:\n",
      " ['TO/ to VB', 'TO/ to VB'] \n",
      "Number of matches: 2\n",
      "Found a match:\n",
      " ['TO/ to NN'] \n",
      "Number of matches: 1\n",
      "Count (TO) is: 4\n",
      "Count (TO VB): 2\n",
      "Transition Probability - P(VB|TO) is: 0.5\n",
      "------------------------------------------------\n",
      "Count (TO NN) : 1\n",
      "Transition Probability - P(NN|TO) is : 0.25\n",
      "------------------------------------------------\n",
      "\n"
     ]
    }
   ],
   "source": [
    "# Count (TO)\n",
    "if re.search('[TO]',text1):\n",
    "    re_count_TO = re.findall(r'\\b(?:TO\\b)',text1)\n",
    "    print('Found a match:\\n',re_count_TO,'\\nNumber of matches:',len(re_count_TO) )\n",
    "else:\n",
    "    print('No match.')\n",
    "\n",
    "# Count (TO VB)\n",
    "if re.search('[TO]',text1):\n",
    "    re_count_TO_VB = re.findall(r'(TO/(?: \\w+) +(?:[VB]\\w\\b))',text1)\n",
    "    print('Found a match:\\n',re_count_TO_VB,'\\nNumber of matches:',len(re_count_TO_VB) )\n",
    "else:\n",
    "    print('No match.')\n",
    "    \n",
    "# Count (TO NN)\n",
    "if re.search('[TO]',text1):\n",
    "    re_count_TO_NN = re.findall(r'(TO/(?: \\w+) +(?:[NN]\\w\\b))',text1)\n",
    "    print('Found a match:\\n',re_count_TO_NN,'\\nNumber of matches:',len(re_count_TO_NN) )\n",
    "else:\n",
    "    print('No match.')\n",
    "    \n",
    "# 1: P(VB|TO) and P(NN|TO)\n",
    "\n",
    "# P(VB|TO)\n",
    "count_TO = len(re_count_TO) # count the number of occurrences of the tag TO\n",
    "count_TO_VB = len(re_count_TO_VB) # count the number of occurrences of the tag TO followed by Tag VBD\n",
    "\n",
    "Prob_TO_VB = round(count_TO_VB/count_TO,2) # Transition Probability of P(VB|TO)\n",
    "print('Count (TO) is:',count_TO )\n",
    "print('Count (TO VB):',count_TO_VB )\n",
    "print('Transition Probability - P(VB|TO) is:',Prob_TO_VB )\n",
    "print('------------------------------------------------')\n",
    "\n",
    "#P(NN|TO)\n",
    "count_TO = len(re_count_TO) # count the number of occurrences of the tag TO\n",
    "count_TO_NN = len(re_count_TO_NN) # count the number of occurrences of the tag TO followed by Tag NN\n",
    "\n",
    "Prob_TO_NN = round(count_TO_NN/count_TO,2) # Transition Probability of P(DT|VBD)\n",
    "# print('Count (TO) is :',count_TO )\n",
    "print('Count (TO NN) :',count_TO_NN )\n",
    "print('Transition Probability - P(NN|TO) is :',Prob_TO_NN )\n",
    "print('------------------------------------------------\\n')"
   ]
  },
  {
   "cell_type": "markdown",
   "metadata": {},
   "source": [
    "### 2: P(IN|VBD) and P(DT|VBD)"
   ]
  },
  {
   "cell_type": "code",
   "execution_count": 7,
   "metadata": {},
   "outputs": [
    {
     "name": "stdout",
     "output_type": "stream",
     "text": [
      "Found a match:\n",
      " ['VBD', 'VBD', 'VBD', 'VBD', 'VBD', 'VBD', 'VBD', 'VBD', 'VBD'] \n",
      "Number of matches:\n",
      " 9\n"
     ]
    }
   ],
   "source": [
    "# Count (VBD)\n",
    "if re.search('[VBD]',text1):\n",
    "    re_count_VBD = re.findall(r'\\b(?:VBD\\b)',text1)\n",
    "    print('Found a match:\\n',re_count_VBD,'\\nNumber of matches:\\n',len(re_count_VBD) )\n",
    "else:\n",
    "    print('No match.')"
   ]
  },
  {
   "cell_type": "code",
   "execution_count": 8,
   "metadata": {},
   "outputs": [
    {
     "name": "stdout",
     "output_type": "stream",
     "text": [
      "Found a match:\n",
      " ['VBD/ walked IN', 'VBD/ declared IN'] \n",
      "Number of matches:\n",
      " 2\n"
     ]
    }
   ],
   "source": [
    "# Count (VBD IN)\n",
    "if re.search('[VBD]',text1):\n",
    "    re_count_VBD_IN = re.findall(r'(VBD/(?: \\w+) +(?:[IN]\\w\\b))',text1)\n",
    "    print('Found a match:\\n',re_count_VBD_IN,'\\nNumber of matches:\\n',len(re_count_VBD_IN) )\n",
    "else:\n",
    "    print('No match.')"
   ]
  },
  {
   "cell_type": "code",
   "execution_count": 9,
   "metadata": {},
   "outputs": [
    {
     "name": "stdout",
     "output_type": "stream",
     "text": [
      "Found a match:\n",
      " ['VBD/ opened DT', 'VBD/ planted DT'] \n",
      "Number of matches:\n",
      " 2\n"
     ]
    }
   ],
   "source": [
    "# Count (VBD DT)\n",
    "if re.search('[VBD]',text1):\n",
    "    re_count_VBD_DT = re.findall(r'(VBD/(?: \\w+) +(?:[D]\\w\\b))',text1)\n",
    "    print('Found a match:\\n',re_count_VBD_DT,'\\nNumber of matches:\\n',len(re_count_VBD_DT) )\n",
    "else:\n",
    "    print('No match.')"
   ]
  },
  {
   "cell_type": "code",
   "execution_count": 10,
   "metadata": {},
   "outputs": [
    {
     "name": "stdout",
     "output_type": "stream",
     "text": [
      "Count (VBD) is : 9\n",
      "Count (IN VBD) : 2\n",
      "Transition Probability - P(IN|VBD) is : 0.22\n",
      "\n",
      "------------------------------------------------\n",
      "\n",
      "Count (VBD) is : 9\n",
      "Count (DT VBD) : 2\n",
      "Transition Probability - P(DT|VBD) is : 0.22\n",
      "\n",
      "------------------------------------------------\n",
      "\n"
     ]
    }
   ],
   "source": [
    "# 2: P(IN|VBD) and P(DT|VBD)\n",
    "\n",
    "# P(IN|VBD)\n",
    "count_VBD = len(re_count_VBD) # count the number of occurrences of the tag VBD\n",
    "count_IN_VBD = len(re_count_VBD_IN) # count the number of occurrences of the tag VBD followed by Tag IN\n",
    "\n",
    "Prob_IN_VBD = round(count_IN_VBD/count_VBD,2) # Transition Probability of P(IN|VBD)\n",
    "print('Count (VBD) is :',count_VBD )\n",
    "print('Count (IN VBD) :',count_IN_VBD )\n",
    "print('Transition Probability - P(IN|VBD) is :',Prob_IN_VBD )\n",
    "print('\\n------------------------------------------------\\n')\n",
    "\n",
    "#P(DT|VBD)\n",
    "count_VBD = len(re_count_VBD) # count the number of occurrences of the tag VBD\n",
    "count_DT_VBD = len(re_count_VBD_DT) # count the number of occurrences of the tag VBD followed by Tag DT\n",
    "\n",
    "Prob_DT_VBD = round(count_DT_VBD/count_VBD,2) # Transition Probability of P(DT|VBD)\n",
    "print('Count (VBD) is :',count_VBD )\n",
    "print('Count (DT VBD) :',count_DT_VBD )\n",
    "print('Transition Probability - P(DT|VBD) is :',Prob_DT_VBD )\n",
    "print('\\n------------------------------------------------\\n')"
   ]
  },
  {
   "cell_type": "markdown",
   "metadata": {},
   "source": [
    "### 3: P(NN|JJ) and P(JJ|JJ)"
   ]
  },
  {
   "cell_type": "code",
   "execution_count": 11,
   "metadata": {},
   "outputs": [
    {
     "name": "stdout",
     "output_type": "stream",
     "text": [
      "Found a match:\n",
      " ['JJ', 'JJ', 'JJ', 'JJ', 'JJ', 'JJ', 'JJ', 'JJ', 'JJ', 'JJ', 'JJ'] \n",
      "Number of matches:\n",
      " 11\n"
     ]
    }
   ],
   "source": [
    "# Count (JJ)\n",
    "if re.search('[JJ]',text1):\n",
    "    re_count_JJ = re.findall(r'\\b(?:JJ\\b)',text1)\n",
    "    print('Found a match:\\n',re_count_JJ,'\\nNumber of matches:\\n',len(re_count_JJ) )\n",
    "else:\n",
    "    print('No match.')"
   ]
  },
  {
   "cell_type": "code",
   "execution_count": 12,
   "metadata": {},
   "outputs": [
    {
     "name": "stdout",
     "output_type": "stream",
     "text": [
      "Found a match:\n",
      " ['JJ/ historic NN', 'JJ/ civilian NN', 'JJ/ southwestern NN', 'JJ/ first NN', 'JJ/ small NN', 'JJ/ giant NN'] \n",
      "Number of matches:\n",
      " 6\n"
     ]
    }
   ],
   "source": [
    "# Count (JJ NN)\n",
    "if re.search('[JJ]',text1):\n",
    "    re_count_JJ_NN = re.findall(r'(JJ/(?: \\w+) +(?:[NN]\\w\\b))',text1)\n",
    "    print('Found a match:\\n',re_count_JJ_NN,'\\nNumber of matches:\\n',len(re_count_JJ_NN) )\n",
    "else:\n",
    "    print('No match.')"
   ]
  },
  {
   "cell_type": "code",
   "execution_count": 13,
   "metadata": {},
   "outputs": [
    {
     "name": "stdout",
     "output_type": "stream",
     "text": [
      "Found a match:\n",
      " ['JJ/ fragile JJ'] \n",
      "Number of matches:\n",
      " 1\n"
     ]
    }
   ],
   "source": [
    "# Count (JJ JJ)\n",
    "if re.search('[JJ]',text1):\n",
    "    re_count_JJ_JJ = re.findall(r'(JJ/(?: \\w+) +(?:[JJ]\\w\\b))',text1)\n",
    "    print('Found a match:\\n',re_count_JJ_JJ,'\\nNumber of matches:\\n',len(re_count_JJ_JJ) )\n",
    "else:\n",
    "    print('No match.')"
   ]
  },
  {
   "cell_type": "code",
   "execution_count": 14,
   "metadata": {},
   "outputs": [
    {
     "name": "stdout",
     "output_type": "stream",
     "text": [
      "Count (JJ) is : 11\n",
      "Count (NN JJ) : 6\n",
      "Transition Probability - P(NN|JJ) is : 0.55\n",
      "\n",
      "------------------------------------------------\n",
      "\n",
      "Count (JJ) is : 11\n",
      "Count (JJ JJ) : 1\n",
      "Transition Probability - P(JJ|JJ) is : 0.09\n",
      "\n",
      "------------------------------------------------\n",
      "\n"
     ]
    }
   ],
   "source": [
    "# 3: P(NN|JJ) and P(JJ|JJ)\n",
    "\n",
    "# P(NN|JJ)\n",
    "count_JJ = len(re_count_JJ) # count the number of occurrences of the tag JJ\n",
    "count_JJ_NN = len(re_count_JJ_NN) # count the number of occurrences of the tag JJ followed by Tag NN\n",
    "\n",
    "Prob_NN_JJ = round(count_JJ_NN/count_JJ,2) # Transition Probability of P(NN|JJ)\n",
    "print('Count (JJ) is :',count_JJ )\n",
    "print('Count (NN JJ) :',count_JJ_NN )\n",
    "print('Transition Probability - P(NN|JJ) is :',Prob_NN_JJ )\n",
    "print('\\n------------------------------------------------\\n')\n",
    "\n",
    "#P(JJ|JJ)\n",
    "count_JJ = len(re_count_JJ) # count the number of occurrences of the tag JJ\n",
    "count_JJ_JJ = len(re_count_JJ_JJ) # count the number of occurrences of the tag JJ followed by Tag JJ\n",
    "\n",
    "Prob_JJ_JJ = round(count_JJ_JJ/count_JJ,2) # Transition Probability of P(JJ|JJ)\n",
    "print('Count (JJ) is :',count_JJ )\n",
    "print('Count (JJ JJ) :',count_JJ_JJ )\n",
    "print('Transition Probability - P(JJ|JJ) is :',Prob_JJ_JJ )\n",
    "print('\\n------------------------------------------------\\n')"
   ]
  },
  {
   "cell_type": "markdown",
   "metadata": {},
   "source": [
    "### 4:P(NN|DT) "
   ]
  },
  {
   "cell_type": "code",
   "execution_count": 15,
   "metadata": {},
   "outputs": [
    {
     "name": "stdout",
     "output_type": "stream",
     "text": [
      "Found a match:\n",
      " ['DT', 'DT', 'DT', 'DT', 'DT', 'DT', 'DT', 'DT', 'DT', 'DT', 'DT', 'DT', 'DT', 'DT', 'DT', 'DT', 'DT'] \n",
      "Number of matches:\n",
      " 17\n"
     ]
    }
   ],
   "source": [
    "# Count (DT)\n",
    "if re.search('[DT]',text1):\n",
    "    re_count_DT = re.findall(r'\\b(?:DT\\b)',text1)\n",
    "    print('Found a match:\\n',re_count_DT,'\\nNumber of matches:\\n',len(re_count_DT) )\n",
    "else:\n",
    "    print('No match.')"
   ]
  },
  {
   "cell_type": "code",
   "execution_count": 16,
   "metadata": {},
   "outputs": [
    {
     "name": "stdout",
     "output_type": "stream",
     "text": [
      "Found a match:\n",
      " ['DT/ the NN', 'DT/ the NN', 'DT/ the NN', 'DT/ a NN', 'DT/ the NN', 'DT/ the NN', 'DT/ the NN', 'DT/ the NN'] \n",
      "Number of matches:\n",
      " 8\n"
     ]
    }
   ],
   "source": [
    "# Count (DT NN)\n",
    "if re.search('[DT]',text1):\n",
    "    re_count_DT_NN = re.findall(r'(DT/(?: \\w+) +(?:[NN]\\w\\b))',text1)\n",
    "    print('Found a match:\\n',re_count_DT_NN,'\\nNumber of matches:\\n',len(re_count_DT_NN) )\n",
    "else:\n",
    "    print('No match.')"
   ]
  },
  {
   "cell_type": "code",
   "execution_count": 17,
   "metadata": {},
   "outputs": [
    {
     "name": "stdout",
     "output_type": "stream",
     "text": [
      "Count (DT) is : 17\n",
      "Count (NN DT) : 8\n",
      "Transition Probability - P(NN|DT)  is : 0.47\n",
      "\n",
      "------------------------------------------------\n",
      "\n"
     ]
    }
   ],
   "source": [
    "#4: P(NN|DT) \n",
    "\n",
    "# P(NN|DT)\n",
    "count_DT = len(re_count_DT) # count the number of occurrences of the tag DT\n",
    "count_DT_NN = len(re_count_DT_NN) # count the number of occurrences of the tag DT followed by Tag NN\n",
    "\n",
    "Prob_NN_DT = round(count_DT_NN/count_DT,2) # Transition Probability of P(NN|DT)\n",
    "print('Count (DT) is :',count_DT )\n",
    "print('Count (NN DT) :',count_DT_NN )\n",
    "print('Transition Probability - P(NN|DT)  is :',Prob_NN_DT )\n",
    "print('\\n------------------------------------------------\\n')\n"
   ]
  },
  {
   "cell_type": "markdown",
   "metadata": {},
   "source": [
    "### 5: P(NN|IN)"
   ]
  },
  {
   "cell_type": "code",
   "execution_count": 18,
   "metadata": {},
   "outputs": [
    {
     "name": "stdout",
     "output_type": "stream",
     "text": [
      "Found a match:\n",
      " ['IN', 'IN', 'IN', 'IN', 'IN', 'IN', 'IN', 'IN', 'IN', 'IN', 'IN', 'IN', 'IN', 'IN'] \n",
      "Number of matches:\n",
      " 14\n"
     ]
    }
   ],
   "source": [
    "# Count (IN)\n",
    "if re.search('[IN]',text1):\n",
    "    re_count_IN = re.findall(r'\\b(?:IN\\b)',text1)\n",
    "    print('Found a match:\\n',re_count_IN,'\\nNumber of matches:\\n',len(re_count_IN) )\n",
    "else:\n",
    "    print('No match.')"
   ]
  },
  {
   "cell_type": "code",
   "execution_count": 19,
   "metadata": {},
   "outputs": [
    {
     "name": "stdout",
     "output_type": "stream",
     "text": [
      "Found a match:\n",
      " ['IN/ at NN', 'IN/ of NN', 'IN/ for NN', 'IN/ for NN'] \n",
      "Number of matches:\n",
      " 4\n"
     ]
    }
   ],
   "source": [
    "# Count (IN NN)\n",
    "if re.search('[IN]',text1):\n",
    "    re_count_IN_NN = re.findall(r'(IN/(?: \\w+) +(?:[NN]\\w\\b))',text1)\n",
    "    print('Found a match:\\n',re_count_IN_NN,'\\nNumber of matches:\\n',len(re_count_IN_NN) )\n",
    "else:\n",
    "    print('No match.')"
   ]
  },
  {
   "cell_type": "code",
   "execution_count": 20,
   "metadata": {},
   "outputs": [
    {
     "name": "stdout",
     "output_type": "stream",
     "text": [
      "Count (IN) is : 14\n",
      "Count (IN NN) : 4\n",
      "Transition Probability - P(NN|IN)  is : 0.29\n",
      "\n",
      "------------------------------------------------\n",
      "\n"
     ]
    }
   ],
   "source": [
    "#5: P(NN|IN)\n",
    "\n",
    "count_IN = len(re_count_IN) # count the number of occurrences of the tag IN\n",
    "count_IN_NN = len(re_count_IN_NN) # count the number of occurrences of the tag IN followed by Tag NN\n",
    "\n",
    "Prob_NN_IN = round(count_IN_NN/count_IN,2) # Transition Probability of P(NN|DT)\n",
    "print('Count (IN) is :',count_IN )\n",
    "print('Count (IN NN) :',count_IN_NN )\n",
    "print('Transition Probability - P(NN|IN)  is :',Prob_NN_IN )\n",
    "print('\\n------------------------------------------------\\n')\n",
    "\n"
   ]
  },
  {
   "cell_type": "markdown",
   "metadata": {},
   "source": [
    "# Question 2: POS Tagging Probabilities: Word Likelihoods"
   ]
  },
  {
   "cell_type": "code",
   "execution_count": 21,
   "metadata": {},
   "outputs": [],
   "source": [
    "text2 ='''\n",
    "\n",
    "NNP/ Houston ,/ , NNP/ Monday ,/ , NNP/ July CD/ 21 :/ -- NN/ Men VBP/ have VBD/ landed CC/ and VBD/ walked IN/ on DT/ the NN/ moon ./ . CD/ Two NNPS/ Americans ,/ , NNS/ astronauts IN/ of NNP/ Apollo CD/ 11 ,/ , VBD/ steered PRP$/ their JJ/ fragile JJ/ four-legged NN/ lunar VB/ module RB/ safely CC/ and RB/ smoothly TO/ to DT/ the JJ/ historic NN/ landing NN/ yesterday IN/ at NN/ 4:17:40 NNP/ P.M. ,/ , NNP/ Eastern NN/ daylight NN/ time ./ . NNP/ Neil NNP/ A. NNP/ Armstrong ,/ , DT/ the JJ/ 38-year-old JJ/ civilian NN/ commander ,/ , VBD/ radioed TO/ to NN/ earth CC/ and DT/ the NN/ mission NN/ control NN/ room RB/ here :/ : ``/ \" NNP/ Houston ,/ , NNP/ Tranquility NNP/ Base RB/ here :/ ; DT/ the NNP/ Eagle VBZ/ has VBN/ landed . . ''/ \"\n",
    "DT/ The JJ /first NNS/ men TO/ to VB/ reach DT/ the NN/ moon :/ -- NNP/ Mr. NNP/ Armstrong CC/ and PRP$/ his NNS/ co-pilot ,/ , NNP/ Col. NNP/ Edwin NNP/ E. NNP/ Aldrin ,/ , NNP/ Jr. IN/ of DT/ the NNP/ Air NNP/ Force :/ -- VBD/ brought PRP$/ their NN/ ship TO/ to VB/ rest IN/ on DT/ a NN/ level ,/ , NN/ rock-strewn NN/ plain IN/ near DT/ the JJ/ southwestern NN/ shore IN/ of DT/ the NN/ arid NNP/ Sea IN/ of NN/ Tranquility ./ . IN/ About CD/ six CC/ and DT/ a JJ/ half NNS/ hours RB/ later ,/ , NNP/ Mr. NNP/ Armstrong VBD/ opened DT/ the NN/ landing NN/ craft POS/ 's NN/ hatch ,/ , VBD/ stepped RB/ slowly IN/ down DT/ the NN/ ladder CC/ and VBD/ declared IN/ as PRP/ he VBD/ planted DT /the JJ/ first NN/ human NN/ footprint IN/ on DT/ the NN/ lunar NN/ crust :/ : ``/ \" DT/ That VBZ/ 's CD/ one JJ/ small NN/ step IN/ for NN/ man ,/ , CD/ one JJ/ giant NN/ leap IN/ for NN/ mankind ./ . ''/ \" \n",
    "\n",
    "'''"
   ]
  },
  {
   "cell_type": "code",
   "execution_count": 22,
   "metadata": {},
   "outputs": [
    {
     "data": {
      "text/plain": [
       "'\\n\\nNNP/ Houston ,/ , NNP/ Monday ,/ , NNP/ July CD/ 21 :/ -- NN/ Men VBP/ have VBD/ landed CC/ and VBD/ walked IN/ on DT/ the NN/ moon ./ . CD/ Two NNPS/ Americans ,/ , NNS/ astronauts IN/ of NNP/ Apollo CD/ 11 ,/ , VBD/ steered PRP$/ their JJ/ fragile JJ/ four-legged NN/ lunar VB/ module RB/ safely CC/ and RB/ smoothly TO/ to DT/ the JJ/ historic NN/ landing NN/ yesterday IN/ at NN/ 4:17:40 NNP/ P.M. ,/ , NNP/ Eastern NN/ daylight NN/ time ./ . NNP/ Neil NNP/ A. NNP/ Armstrong ,/ , DT/ the JJ/ 38-year-old JJ/ civilian NN/ commander ,/ , VBD/ radioed TO/ to NN/ earth CC/ and DT/ the NN/ mission NN/ control NN/ room RB/ here :/ : ``/ \" NNP/ Houston ,/ , NNP/ Tranquility NNP/ Base RB/ here :/ ; DT/ the NNP/ Eagle VBZ/ has VBN/ landed . . \\'\\'/ \"\\nDT/ The JJ /first NNS/ men TO/ to VB/ reach DT/ the NN/ moon :/ -- NNP/ Mr. NNP/ Armstrong CC/ and PRP$/ his NNS/ co-pilot ,/ , NNP/ Col. NNP/ Edwin NNP/ E. NNP/ Aldrin ,/ , NNP/ Jr. IN/ of DT/ the NNP/ Air NNP/ Force :/ -- VBD/ brought PRP$/ their NN/ ship TO/ to VB/ rest IN/ on DT/ a NN/ level ,/ , NN/ rock-strewn NN/ plain IN/ near DT/ the JJ/ southwestern NN/ shore IN/ of DT/ the NN/ arid NNP/ Sea IN/ of NN/ Tranquility ./ . IN/ About CD/ six CC/ and DT/ a JJ/ half NNS/ hours RB/ later ,/ , NNP/ Mr. NNP/ Armstrong VBD/ opened DT/ the NN/ landing NN/ craft POS/ \\'s NN/ hatch ,/ , VBD/ stepped RB/ slowly IN/ down DT/ the NN/ ladder CC/ and VBD/ declared IN/ as PRP/ he VBD/ planted DT /the JJ/ first NN/ human NN/ footprint IN/ on DT/ the NN/ lunar NN/ crust :/ : ``/ \" DT/ That VBZ/ \\'s CD/ one JJ/ small NN/ step IN/ for NN/ man ,/ , CD/ one JJ/ giant NN/ leap IN/ for NN/ mankind ./ . \\'\\'/ \" \\n\\n'"
      ]
     },
     "execution_count": 22,
     "metadata": {},
     "output_type": "execute_result"
    }
   ],
   "source": [
    "text2"
   ]
  },
  {
   "cell_type": "markdown",
   "metadata": {},
   "source": [
    "### 1: P(is|VBZ) and P(has|VBZ)"
   ]
  },
  {
   "cell_type": "code",
   "execution_count": 23,
   "metadata": {},
   "outputs": [
    {
     "name": "stdout",
     "output_type": "stream",
     "text": [
      "Found a match:\n",
      " ['VBZ', 'VBZ'] \n",
      "Number of matches:\n",
      " 2\n",
      "Found a match:\n",
      " [] \n",
      "Number of matches:\n",
      " 0\n",
      "Transition Probability - P(is|VBZ)  is : 0\n",
      "\n",
      "------------------------------------------------\n",
      "\n"
     ]
    }
   ],
   "source": [
    "#P(is|VBZ) - Begins\n",
    "\n",
    "\n",
    "# Count (VBZ)\n",
    "if re.search('[VBZ]',text2):\n",
    "    re_count_VBZ = re.findall(r'\\b(?:VBZ\\b)',text2)\n",
    "    print('Found a match:\\n',re_count_VBZ,'\\nNumber of matches:\\n',len(re_count_VBZ) )\n",
    "else:\n",
    "    print('No match.')\n",
    "    \n",
    "\n",
    "# Count (VBZ is)\n",
    "if re.search('[VBZ]',text2):\n",
    "    re_count_VBZ_is = re.findall(r'(VBZ/(?: )+(?:[is]\\w+))',text2)\n",
    "    print('Found a match:\\n',re_count_VBZ_is,'\\nNumber of matches:\\n',len(re_count_VBZ_is) )\n",
    "else:\n",
    "    print('No match.')\n",
    "    \n",
    "#PP(is|VBZ)\n",
    "\n",
    "count_VBZ = len(re_count_VBZ) # count the number of occurrences of the tag VBZ\n",
    "count_VBZ_is = len(re_count_VBZ_is) # count the number of occurrences of the tag VBZ followed by Tag is\n",
    "\n",
    "if count_VBZ_is > 0:\n",
    "    Prob_is_VBZ = round(count_VBZ_is/count_VBZ,2) # Transition Probability of P(is|VBZ)\n",
    "    print('Count (VBZ) is :',count_VBZ )\n",
    "    print('Count (is VBZ) :',count_VBZ_is )\n",
    "    print('Transition Probability - P(is|VBZ)  is :',Prob_is_VBZ )\n",
    "else:\n",
    "    print('Transition Probability - P(is|VBZ)  is : 0' )\n",
    "print('\\n------------------------------------------------\\n')\n"
   ]
  },
  {
   "cell_type": "code",
   "execution_count": 24,
   "metadata": {},
   "outputs": [
    {
     "name": "stdout",
     "output_type": "stream",
     "text": [
      "Found a match:\n",
      " ['VBZ', 'VBZ'] \n",
      "Number of matches:\n",
      " 2\n",
      "Found a match:\n",
      " ['VBZ/ has'] \n",
      "Number of matches:\n",
      " 1\n",
      "Count (VBZ) is : 2\n",
      "Count (has VBZ) : 1\n",
      "Transition Probability - P(has|VBZ)  is : 0.5\n",
      "\n",
      "------------------------------------------------\n",
      "\n"
     ]
    }
   ],
   "source": [
    "#P(has|VBZ) - Begins\n",
    "\n",
    "# Count (VBZ)\n",
    "if re.search('[VBZ]',text2):\n",
    "    re_count_VBZ = re.findall(r'\\b(?:VBZ\\b)',text2)\n",
    "    print('Found a match:\\n',re_count_VBZ,'\\nNumber of matches:\\n',len(re_count_VBZ) )\n",
    "else:\n",
    "    print('No match.')\n",
    "    \n",
    "\n",
    "# Count (VBZ has)\n",
    "if re.search('[VBZ]',text2):\n",
    "    re_count_VBZ_has = re.findall(r'(VBZ/(?: )+(?:[has]\\w+))',text2)\n",
    "    print('Found a match:\\n',re_count_VBZ_has,'\\nNumber of matches:\\n',len(re_count_VBZ_has) )\n",
    "else:\n",
    "    print('No match.')\n",
    "    \n",
    "#PP(has|VBZ)\n",
    "\n",
    "count_VBZ = len(re_count_VBZ) # count the number of occurrences of the tag VBZ\n",
    "count_VBZ_has = len(re_count_VBZ_has) # count the number of occurrences of the tag VBZ followed by Tag has\n",
    "\n",
    "if count_VBZ_has > 0:\n",
    "    Prob_has_VBZ = round(count_VBZ_has/count_VBZ,2) # Transition Probability of P(has|VBZ)\n",
    "    print('Count (VBZ) is :',count_VBZ )\n",
    "    print('Count (has VBZ) :',count_VBZ_has )\n",
    "    print('Transition Probability - P(has|VBZ)  is :',Prob_has_VBZ )\n",
    "else:\n",
    "    print('Transition Probability - P(has|VBZ)  is : 0' )\n",
    "print('\\n------------------------------------------------\\n')"
   ]
  },
  {
   "cell_type": "markdown",
   "metadata": {},
   "source": [
    "## 2: P(moon|NN) and P(earth|NN)\n",
    "\n"
   ]
  },
  {
   "cell_type": "code",
   "execution_count": 33,
   "metadata": {},
   "outputs": [
    {
     "name": "stdout",
     "output_type": "stream",
     "text": [
      "Found a match:\n",
      " ['NN', 'NN', 'NN', 'NN', 'NN', 'NN', 'NN', 'NN', 'NN', 'NN', 'NN', 'NN', 'NN', 'NN', 'NN', 'NN', 'NN', 'NN', 'NN', 'NN', 'NN', 'NN', 'NN', 'NN', 'NN', 'NN', 'NN', 'NN', 'NN', 'NN', 'NN', 'NN', 'NN'] \n",
      "Number of matches: 33\n",
      "Found a match:\n",
      " ['NN/ moon', 'NN/ moon'] \n",
      "Number of matches: 2\n",
      "Count (NN) is : 33\n",
      "Count (has NN) : 2\n",
      "Transition Probability - P(moon|NN)  is : 0.06\n",
      "\n",
      "------------------------------------------------\n",
      "\n"
     ]
    }
   ],
   "source": [
    "#P(moon|NN) - Begins\n",
    "\n",
    "# Count (NN)\n",
    "if re.search('[NN]',text2):\n",
    "    re_count_NN = re.findall(r'\\b(?:NN\\b)',text2)\n",
    "    print('Found a match:\\n',re_count_NN,'\\nNumber of matches:',len(re_count_NN) )\n",
    "else:\n",
    "    print('No match.')\n",
    "    \n",
    "\n",
    "# Count (NN moon)\n",
    "if re.search('[NN]',text2):\n",
    "    re_count_NN_moon = re.findall(r'(NN/ moon\\b)',text2)\n",
    "    print('Found a match:\\n',re_count_NN_moon,'\\nNumber of matches:',len(re_count_NN_moon) )\n",
    "else:\n",
    "    print('No match.')\n",
    "    \n",
    "#PP(moon|NN)\n",
    "\n",
    "count_NN = len(re_count_NN) # count the number of occurrences of the tag NN\n",
    "count_NN_moon = len(re_count_NN_moon) # count the number of occurrences of the tag NN followed by Tag has\n",
    "\n",
    "if count_NN_moon > 0:\n",
    "    Prob_moon_NN = round(count_NN_moon/count_NN,2) # Transition Probability of P(moon|NN)\n",
    "    print('Count (NN) is :',count_NN )\n",
    "    print('Count (has NN) :',count_NN_moon )\n",
    "    print('Transition Probability - P(moon|NN)  is :',Prob_moon_NN )\n",
    "else:\n",
    "    print('Transition Probability - P(moon|NN)  is : 0' )\n",
    "print('\\n------------------------------------------------\\n')"
   ]
  },
  {
   "cell_type": "code",
   "execution_count": 26,
   "metadata": {},
   "outputs": [
    {
     "name": "stdout",
     "output_type": "stream",
     "text": [
      "Found a match:\n",
      " ['NN', 'NN', 'NN', 'NN', 'NN', 'NN', 'NN', 'NN', 'NN', 'NN', 'NN', 'NN', 'NN', 'NN', 'NN', 'NN', 'NN', 'NN', 'NN', 'NN', 'NN', 'NN', 'NN', 'NN', 'NN', 'NN', 'NN', 'NN', 'NN', 'NN', 'NN', 'NN', 'NN'] \n",
      "Number of matches:\n",
      " 33\n",
      "Found a match:\n",
      " ['NN/ earth'] \n",
      "Number of matches:\n",
      " 1\n",
      "Count (NN) is : 33\n",
      "Count (earth NN) : 1\n",
      "Transition Probability - P(earth|NN)  is : 0.03\n",
      "\n",
      "------------------------------------------------\n",
      "\n"
     ]
    }
   ],
   "source": [
    "#P(earth|NN) - Begins\n",
    "\n",
    "# Count (NN)\n",
    "if re.search('[NN]',text2):\n",
    "    re_count_NN = re.findall(r'\\b(?:NN\\b)',text2)\n",
    "    print('Found a match:\\n',re_count_NN,'\\nNumber of matches:\\n',len(re_count_NN) )\n",
    "else:\n",
    "    print('No match.')\n",
    "    \n",
    "\n",
    "# Count (NN earth)\n",
    "if re.search('[NN]',text2):\n",
    "    re_count_NN_earth = re.findall(r'(NN/ earth\\b)',text2)\n",
    "    print('Found a match:\\n',re_count_NN_earth,'\\nNumber of matches:\\n',len(re_count_NN_earth) )\n",
    "else:\n",
    "    print('No match.')\n",
    "    \n",
    "#PP(earth|NN)\n",
    "\n",
    "count_NN = len(re_count_NN) # count the number of occurrences of the tag NN\n",
    "count_NN_earth = len(re_count_NN_earth) # count the number of occurrences of the tag NN followed by Tag earth\n",
    "\n",
    "if count_NN_earth > 0:\n",
    "    Prob_earth_NN = round(count_NN_earth/count_NN,2) # Transition Probability of P(earth|NN)\n",
    "    print('Count (NN) is :',count_NN )\n",
    "    print('Count (earth NN) :',count_NN_earth )\n",
    "    print('Transition Probability - P(earth|NN)  is :',Prob_earth_NN )\n",
    "else:\n",
    "    print('Transition Probability - P(earth|NN)  is : 0' )\n",
    "print('\\n------------------------------------------------\\n')"
   ]
  },
  {
   "cell_type": "markdown",
   "metadata": {},
   "source": [
    "## 3: P(small|JJ) and P(fragile|JJ)"
   ]
  },
  {
   "cell_type": "code",
   "execution_count": 27,
   "metadata": {},
   "outputs": [
    {
     "name": "stdout",
     "output_type": "stream",
     "text": [
      "Found a match:\n",
      " ['JJ', 'JJ', 'JJ', 'JJ', 'JJ', 'JJ', 'JJ', 'JJ', 'JJ', 'JJ', 'JJ'] \n",
      "Number of matches:\n",
      " 11\n",
      "Found a match:\n",
      " ['JJ/ small'] \n",
      "Number of matches:\n",
      " 1\n",
      "Count (JJ) is : 11\n",
      "Count (small JJ) : 1\n",
      "Transition Probability - P(small|JJ)  is : 0.09\n",
      "\n",
      "------------------------------------------------\n",
      "\n"
     ]
    }
   ],
   "source": [
    "#P(small|JJ) - Begins\n",
    "\n",
    "# Count (JJ)\n",
    "if re.search('[JJ]',text2):\n",
    "    re_count_JJ = re.findall(r'\\b(?:JJ\\b)',text2)\n",
    "    print('Found a match:\\n',re_count_JJ,'\\nNumber of matches:\\n',len(re_count_JJ) )\n",
    "else:\n",
    "    print('No match.')\n",
    "    \n",
    "\n",
    "# Count (JJ small)\n",
    "if re.search('[JJ]',text2):\n",
    "    re_count_JJ_small = re.findall(r'(JJ/ small\\b)',text2)\n",
    "    print('Found a match:\\n',re_count_JJ_small,'\\nNumber of matches:\\n',len(re_count_JJ_small) )\n",
    "else:\n",
    "    print('No match.')\n",
    "    \n",
    "#PP(small|JJ)\n",
    "\n",
    "count_JJ = len(re_count_JJ) # count the number of occurrences of the tag JJ\n",
    "count_JJ_small = len(re_count_JJ_small) # count the number of occurrences of the tag JJ followed by Tag small\n",
    "\n",
    "if count_JJ_small > 0:\n",
    "    Prob_small_JJ = round(count_JJ_small/count_JJ,2) # Transition Probability of P(small|JJ)\n",
    "    print('Count (JJ) is :',count_JJ )\n",
    "    print('Count (small JJ) :',count_JJ_small )\n",
    "    print('Transition Probability - P(small|JJ)  is :',Prob_small_JJ )\n",
    "else:\n",
    "    print('Transition Probability - P(small|JJ)  is : 0' )\n",
    "print('\\n------------------------------------------------\\n')"
   ]
  },
  {
   "cell_type": "code",
   "execution_count": 28,
   "metadata": {},
   "outputs": [
    {
     "name": "stdout",
     "output_type": "stream",
     "text": [
      "Found a match:\n",
      " ['JJ', 'JJ', 'JJ', 'JJ', 'JJ', 'JJ', 'JJ', 'JJ', 'JJ', 'JJ', 'JJ'] \n",
      "Number of matches:\n",
      " 11\n",
      "Found a match:\n",
      " ['JJ/ fragile'] \n",
      "Number of matches:\n",
      " 1\n",
      "Count (JJ) is : 11\n",
      "Count (fragile JJ) : 1\n",
      "Transition Probability - P(fragile|JJ)  is : 0.09\n",
      "\n",
      "------------------------------------------------\n",
      "\n"
     ]
    }
   ],
   "source": [
    "#P(fragile|JJ) - Begins\n",
    "\n",
    "# Count (JJ)\n",
    "if re.search('[JJ]',text2):\n",
    "    re_count_JJ = re.findall(r'\\b(?:JJ\\b)',text2)\n",
    "    print('Found a match:\\n',re_count_JJ,'\\nNumber of matches:\\n',len(re_count_JJ) )\n",
    "else:\n",
    "    print('No match.')\n",
    "    \n",
    "\n",
    "# Count (JJ fragile)\n",
    "if re.search('[JJ]',text2):\n",
    "    re_count_JJ_fragile = re.findall(r'(JJ/ fragile\\b)',text2)\n",
    "#     re_count_JJ_fragile = re.findall(r'(JJ/(?: )+(?:[fragile]\\w+))',text2)\n",
    "    print('Found a match:\\n',re_count_JJ_fragile,'\\nNumber of matches:\\n',len(re_count_JJ_fragile) )\n",
    "else:\n",
    "    print('No match.')\n",
    "    \n",
    "#PP(fragile|JJ)\n",
    "\n",
    "count_JJ = len(re_count_JJ) # count the number of occurrences of the tag JJ\n",
    "count_JJ_fragile = len(re_count_JJ_fragile) # count the number of occurrences of the tag JJ followed by Tag fragile\n",
    "\n",
    "if count_JJ_fragile > 0:\n",
    "    Prob_fragile_JJ = round(count_JJ_fragile/count_JJ,2) # Transition Probability of P(fragile|JJ)\n",
    "    print('Count (JJ) is :',count_JJ )\n",
    "    print('Count (fragile JJ) :',count_JJ_fragile )\n",
    "    print('Transition Probability - P(fragile|JJ)  is :',Prob_fragile_JJ )\n",
    "else:\n",
    "    print('Transition Probability - P(fragile|JJ)  is : 0' )\n",
    "print('\\n------------------------------------------------\\n')"
   ]
  },
  {
   "cell_type": "markdown",
   "metadata": {},
   "source": [
    "## 4: P(one|CD) and P(six|CD)"
   ]
  },
  {
   "cell_type": "code",
   "execution_count": 29,
   "metadata": {},
   "outputs": [
    {
     "name": "stdout",
     "output_type": "stream",
     "text": [
      "Found a match:\n",
      " ['CD', 'CD', 'CD', 'CD', 'CD', 'CD'] \n",
      "Number of matches:\n",
      " 6\n",
      "Found a match:\n",
      " ['CD/ one', 'CD/ one'] \n",
      "Number of matches:\n",
      " 2\n",
      "Count (CD) is : 6\n",
      "Count (one CD) : 2\n",
      "Transition Probability - P(one|CD)  is : 0.33\n",
      "\n",
      "------------------------------------------------\n",
      "\n"
     ]
    }
   ],
   "source": [
    "#P(one|CD) - Begins\n",
    "\n",
    "# Count (CD)\n",
    "if re.search('[CD]',text2):\n",
    "    re_count_CD = re.findall(r'\\b(?:CD\\b)',text2)\n",
    "    print('Found a match:\\n',re_count_CD,'\\nNumber of matches:\\n',len(re_count_CD) )\n",
    "else:\n",
    "    print('No match.')\n",
    "    \n",
    "\n",
    "# Count (CD one)\n",
    "if re.search('[CD]',text2):\n",
    "    re_count_CD_one = re.findall(r'(CD/ one\\b)',text2)\n",
    "#     re_count_CD_one= re.findall(r'(CD/(?: )+(?:[one]\\w+))',text2)\n",
    "    print('Found a match:\\n',re_count_CD_one,'\\nNumber of matches:\\n',len(re_count_CD_one) )\n",
    "else:\n",
    "    print('No match.')\n",
    "    \n",
    "#PP(one|CD)\n",
    "\n",
    "count_CD = len(re_count_CD) # count the number of occurrences of the tag CD\n",
    "count_CD_one = len(re_count_CD_one) # count the number of occurrences of the tag CD followed by Tag one\n",
    "\n",
    "if count_CD_one > 0:\n",
    "    Prob_one_CD = round(count_CD_one/count_CD,2) # Transition Probability of P(one|CD)\n",
    "    print('Count (CD) is :',count_CD )\n",
    "    print('Count (one CD) :',count_CD_one )\n",
    "    print('Transition Probability - P(one|CD)  is :',Prob_one_CD )\n",
    "else:\n",
    "    print('Transition Probability - P(one|CD)  is : 0' )\n",
    "print('\\n------------------------------------------------\\n')"
   ]
  },
  {
   "cell_type": "code",
   "execution_count": 30,
   "metadata": {},
   "outputs": [
    {
     "name": "stdout",
     "output_type": "stream",
     "text": [
      "Found a match:\n",
      " ['CD', 'CD', 'CD', 'CD', 'CD', 'CD'] \n",
      "Number of matches:\n",
      " 6\n",
      "Found a match:\n",
      " ['CD/ six'] \n",
      "Number of matches:\n",
      " 1\n",
      "Count (CD) is : 6\n",
      "Count (six CD) : 1\n",
      "Transition Probability - P(six|CD)  is : 0.17\n",
      "\n",
      "------------------------------------------------\n",
      "\n"
     ]
    }
   ],
   "source": [
    "#P(six|CD) - Begins\n",
    "\n",
    "# Count (CD)\n",
    "if re.search('[CD]',text2):\n",
    "    re_count_CD = re.findall(r'\\b(?:CD\\b)',text2)\n",
    "    print('Found a match:\\n',re_count_CD,'\\nNumber of matches:\\n',len(re_count_CD) )\n",
    "else:\n",
    "    print('No match.')\n",
    "    \n",
    "\n",
    "# Count (CD six)\n",
    "if re.search('[CD]',text2):\n",
    "    re_count_CD_six = re.findall(r'(CD/ six\\b)',text2)\n",
    "#     re_count_CD_six= re.findall(r'(CD/(?: )+(?:[six]\\w+))',text2)\n",
    "    print('Found a match:\\n',re_count_CD_six,'\\nNumber of matches:\\n',len(re_count_CD_six) )\n",
    "else:\n",
    "    print('No match.')\n",
    "    \n",
    "#PP(six|CD)\n",
    "\n",
    "count_CD = len(re_count_CD) # count the number of occurrences of the tag CD\n",
    "count_CD_six = len(re_count_CD_six) # count the number of occurrences of the tag CD followed by Tag six\n",
    "\n",
    "if count_CD_six > 0:\n",
    "    Prob_six_CD = round(count_CD_six/count_CD,2) # Transition Probability of P(six|CD)\n",
    "    print('Count (CD) is :',count_CD )\n",
    "    print('Count (six CD) :',count_CD_six )\n",
    "    print('Transition Probability - P(six|CD)  is :',Prob_six_CD )\n",
    "else:\n",
    "    print('Transition Probability - P(six|CD)  is : 0' )\n",
    "print('\\n------------------------------------------------\\n')"
   ]
  },
  {
   "cell_type": "markdown",
   "metadata": {},
   "source": [
    "## 5: P(Mr.|NNP) and P(Eagle|NNP)"
   ]
  },
  {
   "cell_type": "code",
   "execution_count": 31,
   "metadata": {},
   "outputs": [
    {
     "name": "stdout",
     "output_type": "stream",
     "text": [
      "Found a match:\n",
      " ['NNP', 'NNP', 'NNP', 'NNP', 'NNP', 'NNP', 'NNP', 'NNP', 'NNP', 'NNP', 'NNP', 'NNP', 'NNP', 'NNP', 'NNP', 'NNP', 'NNP', 'NNP', 'NNP', 'NNP', 'NNP', 'NNP', 'NNP', 'NNP', 'NNP'] \n",
      "Number of matches:\n",
      " 25\n",
      "Found a match:\n",
      " ['NNP/ Mr', 'NNP/ Mr'] \n",
      "Number of matches:\n",
      " 2\n",
      "Count (NNP) is : 25\n",
      "Count (Mr NNP) : 2\n",
      "Transition Probability - P(Mr|NNP)  is : 0.08\n",
      "\n",
      "------------------------------------------------\n",
      "\n"
     ]
    }
   ],
   "source": [
    "#P(Mr.|NNP) - Begins\n",
    "\n",
    "# Count (NNP)\n",
    "if re.search('[NNP]',text2):\n",
    "    re_count_NNP = re.findall(r'\\b(?:NNP\\b)',text2)\n",
    "    print('Found a match:\\n',re_count_NNP,'\\nNumber of matches:\\n',len(re_count_NNP) )\n",
    "else:\n",
    "    print('No match.')\n",
    "    \n",
    "\n",
    "# Count (NNP Mr)\n",
    "if re.search('[NNP]',text2):\n",
    "    re_count_NNP_Mr = re.findall(r'(NNP/ Mr\\b)',text2)\n",
    "#     re_count_NNP_Mr= re.findall(r'(NNP/(?: )+(?:[Mr]\\w+))',text2)\n",
    "    print('Found a match:\\n',re_count_NNP_Mr,'\\nNumber of matches:\\n',len(re_count_NNP_Mr) )\n",
    "else:\n",
    "    print('No match.')\n",
    "    \n",
    "#PP(Mr|NNP)\n",
    "\n",
    "count_NNP = len(re_count_NNP) # count the number of occurrences of the tag NNP\n",
    "count_NNP_Mr = len(re_count_NNP_Mr) # count the number of occurrences of the tag NNP followed by Tag Mr\n",
    "\n",
    "if count_NNP_Mr > 0:\n",
    "    Prob_Mr_NNP = round(count_NNP_Mr/count_NNP,2) # Transition Probability of P(Mr|NNP)\n",
    "    print('Count (NNP) is :',count_NNP )\n",
    "    print('Count (Mr NNP) :',count_NNP_Mr )\n",
    "    print('Transition Probability - P(Mr|NNP)  is :',Prob_Mr_NNP )\n",
    "else:\n",
    "    print('Transition Probability - P(Mr|NNP)  is : 0' )\n",
    "print('\\n------------------------------------------------\\n')"
   ]
  },
  {
   "cell_type": "code",
   "execution_count": 32,
   "metadata": {},
   "outputs": [
    {
     "name": "stdout",
     "output_type": "stream",
     "text": [
      "Found a match:\n",
      " ['NNP', 'NNP', 'NNP', 'NNP', 'NNP', 'NNP', 'NNP', 'NNP', 'NNP', 'NNP', 'NNP', 'NNP', 'NNP', 'NNP', 'NNP', 'NNP', 'NNP', 'NNP', 'NNP', 'NNP', 'NNP', 'NNP', 'NNP', 'NNP', 'NNP'] \n",
      "Number of matches:\n",
      " 25\n",
      "Found a match:\n",
      " ['NNP/ Eagle'] \n",
      "Number of matches:\n",
      " 1\n",
      "Count (NNP) is : 25\n",
      "Count (Eagle NNP) : 1\n",
      "Transition Probability - P(Eagle|NNP)  is : 0.04\n",
      "\n",
      "------------------------------------------------\n",
      "\n"
     ]
    }
   ],
   "source": [
    "#P(Eagle|NNP) - Begins\n",
    "\n",
    "# Count (NNP)\n",
    "if re.search('[NNP]',text2):\n",
    "    re_count_NNP = re.findall(r'\\b(?:NNP\\b)',text2)\n",
    "    print('Found a match:\\n',re_count_NNP,'\\nNumber of matches:\\n',len(re_count_NNP) )\n",
    "else:\n",
    "    print('No match.')\n",
    "    \n",
    "\n",
    "# Count (NNP Eagle)\n",
    "if re.search('[NNP]',text2):\n",
    "    re_count_NNP_Eagle = re.findall(r'(NNP/ Eagle\\b)',text2)\n",
    "#     re_count_NNP_Eagle= re.findall(r'(NNP/(?: )+(?:[Eagle]\\w+))',text2)\n",
    "    print('Found a match:\\n',re_count_NNP_Eagle,'\\nNumber of matches:\\n',len(re_count_NNP_Eagle) )\n",
    "else:\n",
    "    print('No match.')\n",
    "    \n",
    "#PP(Eagle|NNP)\n",
    "\n",
    "count_NNP = len(re_count_NNP) # count the number of occurrences of the tag NNP\n",
    "count_NNP_Eagle = len(re_count_NNP_Eagle) # count the number of occurrences of the tag NNP followed by Tag Eagle\n",
    "\n",
    "if count_NNP_Eagle > 0:\n",
    "    Prob_Eagle_NNP = round(count_NNP_Eagle/count_NNP,2) # Transition Probability of P(Eagle|NNP)\n",
    "    print('Count (NNP) is :',count_NNP )\n",
    "    print('Count (Eagle NNP) :',count_NNP_Eagle )\n",
    "    print('Transition Probability - P(Eagle|NNP)  is :',Prob_Eagle_NNP )\n",
    "else:\n",
    "    print('Transition Probability - P(Eagle|NNP)  is : 0' )\n",
    "print('\\n------------------------------------------------\\n')"
   ]
  }
 ],
 "metadata": {
  "kernelspec": {
   "display_name": "Python 3",
   "language": "python",
   "name": "python3"
  },
  "language_info": {
   "codemirror_mode": {
    "name": "ipython",
    "version": 3
   },
   "file_extension": ".py",
   "mimetype": "text/x-python",
   "name": "python",
   "nbconvert_exporter": "python",
   "pygments_lexer": "ipython3",
   "version": "3.7.6"
  }
 },
 "nbformat": 4,
 "nbformat_minor": 4
}
