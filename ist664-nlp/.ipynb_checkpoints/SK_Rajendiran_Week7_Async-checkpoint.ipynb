{
 "cells": [
  {
   "cell_type": "markdown",
   "metadata": {},
   "source": [
    "Name: Sathish Kumar Rajendiran\n",
    "Chapter :  Discourse and Dialogue\n",
    "Date: 11/14/2020\n",
    "Week: 7"
   ]
  },
  {
   "cell_type": "code",
   "execution_count": 1,
   "metadata": {},
   "outputs": [
    {
     "data": {
      "text/plain": [
       "'/Users/sathishrajendiran/ist664-nlp'"
      ]
     },
     "execution_count": 1,
     "metadata": {},
     "output_type": "execute_result"
    }
   ],
   "source": [
    "#import libraries\n",
    "\n",
    "# standard library\n",
    "import os\n",
    "import sys\n",
    "from datetime import datetime\n",
    "import time\n",
    "\n",
    "# csv, xls, pandas & json\n",
    "import pandas as pd\n",
    "import json\n",
    "import csv\n",
    "import xlrd\n",
    "\n",
    "# Language Processing\n",
    "import nltk\n",
    "from nltk import FreqDist\n",
    "# import wordnet and shorten its name to wn\n",
    "from nltk.corpus import wordnet as wn\n",
    "\n",
    "# web requests\n",
    "from urllib import request\n",
    "\n",
    "\n",
    "##  Regular Expression to match non-alphabetic characters\n",
    "import re\n",
    "\n",
    "os.getcwd()"
   ]
  },
  {
   "cell_type": "code",
   "execution_count": 2,
   "metadata": {},
   "outputs": [
    {
     "name": "stdout",
     "output_type": "stream",
     "text": [
      "{'last_letter': 'k'}\n"
     ]
    }
   ],
   "source": [
    "# define a feature extraction function for each name\n",
    "def gender_features(word):\n",
    "    return{'last_letter': word[-1]}\n",
    "\n",
    "print(gender_features('Shrek'))\n"
   ]
  },
  {
   "cell_type": "code",
   "execution_count": 3,
   "metadata": {},
   "outputs": [
    {
     "name": "stdout",
     "output_type": "stream",
     "text": [
      "['Aamir', 'Aaron', 'Abbey', 'Abbie', 'Abbot', 'Abbott', 'Abby', 'Abdel', 'Abdul', 'Abdulkarim', 'Abdullah', 'Abe', 'Abel', 'Abelard', 'Abner', 'Abraham', 'Abram', 'Ace', 'Adair', 'Adam']\n"
     ]
    }
   ],
   "source": [
    "# resource for male and female first names\n",
    "from nltk.corpus import names\n",
    "print(names.words('male.txt')[:20])"
   ]
  },
  {
   "cell_type": "code",
   "execution_count": 4,
   "metadata": {},
   "outputs": [
    {
     "name": "stdout",
     "output_type": "stream",
     "text": [
      "['Abagael', 'Abagail', 'Abbe', 'Abbey', 'Abbi', 'Abbie', 'Abby', 'Abigael', 'Abigail', 'Abigale', 'Abra', 'Acacia', 'Ada', 'Adah', 'Adaline', 'Adara', 'Addie', 'Addis', 'Adel', 'Adela']\n"
     ]
    }
   ],
   "source": [
    "print(names.words('female.txt')[:20])"
   ]
  },
  {
   "cell_type": "code",
   "execution_count": 6,
   "metadata": {},
   "outputs": [
    {
     "name": "stdout",
     "output_type": "stream",
     "text": [
      "7944\n"
     ]
    }
   ],
   "source": [
    "# make list of male and female names paired with gender\n",
    "namesgender = ([(name, 'male') for name in names.words('male.txt')] +\n",
    "          [(name, 'female') for name in names.words('female.txt')])\n",
    "print(len(namesgender))"
   ]
  },
  {
   "cell_type": "code",
   "execution_count": 7,
   "metadata": {},
   "outputs": [
    {
     "name": "stdout",
     "output_type": "stream",
     "text": [
      "[('Aamir', 'male'), ('Aaron', 'male'), ('Abbey', 'male'), ('Abbie', 'male'), ('Abbot', 'male'), ('Abbott', 'male'), ('Abby', 'male'), ('Abdel', 'male'), ('Abdul', 'male'), ('Abdulkarim', 'male'), ('Abdullah', 'male'), ('Abe', 'male'), ('Abel', 'male'), ('Abelard', 'male'), ('Abner', 'male'), ('Abraham', 'male'), ('Abram', 'male'), ('Ace', 'male'), ('Adair', 'male'), ('Adam', 'male')]\n"
     ]
    }
   ],
   "source": [
    "print(namesgender[:20])"
   ]
  },
  {
   "cell_type": "code",
   "execution_count": 8,
   "metadata": {},
   "outputs": [
    {
     "name": "stdout",
     "output_type": "stream",
     "text": [
      "[('Zena', 'female'), ('Zenia', 'female'), ('Zia', 'female'), ('Zilvia', 'female'), ('Zita', 'female'), ('Zitella', 'female'), ('Zoe', 'female'), ('Zola', 'female'), ('Zonda', 'female'), ('Zondra', 'female'), ('Zonnya', 'female'), ('Zora', 'female'), ('Zorah', 'female'), ('Zorana', 'female'), ('Zorina', 'female'), ('Zorine', 'female'), ('Zsa Zsa', 'female'), ('Zsazsa', 'female'), ('Zulema', 'female'), ('Zuzana', 'female')]\n"
     ]
    }
   ],
   "source": [
    "print(namesgender[7924:])"
   ]
  },
  {
   "cell_type": "code",
   "execution_count": 9,
   "metadata": {},
   "outputs": [
    {
     "name": "stdout",
     "output_type": "stream",
     "text": [
      "[('Lilian', 'female'), ('Oberon', 'male'), ('Gusta', 'female'), ('Cathrin', 'female'), ('Yoshi', 'female'), ('Olaf', 'male'), ('Zeus', 'male'), ('Odessa', 'female'), ('Niki', 'female'), ('Caron', 'female'), ('Brandi', 'female'), ('Winston', 'male'), ('Zuzana', 'female'), ('Chas', 'male'), ('Rickey', 'male'), ('Sebastiano', 'male'), ('Heda', 'female'), ('Cris', 'female'), ('Marika', 'female'), ('Dorena', 'female')]\n"
     ]
    }
   ],
   "source": [
    "# put the list into random order\n",
    "import random\n",
    "random.shuffle(namesgender)\n",
    "print(namesgender[:20])"
   ]
  },
  {
   "cell_type": "code",
   "execution_count": 11,
   "metadata": {},
   "outputs": [],
   "source": [
    "# separate the names into training and test\n",
    "train_names = namesgender[500:]\n",
    "test_names = namesgender[:500]"
   ]
  },
  {
   "cell_type": "code",
   "execution_count": 12,
   "metadata": {},
   "outputs": [
    {
     "name": "stdout",
     "output_type": "stream",
     "text": [
      "[({'last_letter': 'a'}, 'female'), ({'last_letter': 'o'}, 'male'), ({'last_letter': 'y'}, 'male'), ({'last_letter': 'i'}, 'female'), ({'last_letter': 'e'}, 'female'), ({'last_letter': 'a'}, 'female'), ({'last_letter': 'a'}, 'female'), ({'last_letter': 'y'}, 'female'), ({'last_letter': 'd'}, 'male'), ({'last_letter': 'y'}, 'female'), ({'last_letter': 'a'}, 'female'), ({'last_letter': 'e'}, 'male'), ({'last_letter': 'e'}, 'female'), ({'last_letter': 'e'}, 'female'), ({'last_letter': 's'}, 'male'), ({'last_letter': 'y'}, 'male'), ({'last_letter': 'e'}, 'male'), ({'last_letter': 'i'}, 'female'), ({'last_letter': 'e'}, 'male'), ({'last_letter': 'l'}, 'male')]\n"
     ]
    }
   ],
   "source": [
    "# use our features to train a classify and test on the development test set\n",
    "train_set = [(gender_features(n), g) for (n, g) in train_names]\n",
    "test_set = [(gender_features(n), g) for (n, g) in test_names]\n",
    "print(train_set[:20])"
   ]
  },
  {
   "cell_type": "code",
   "execution_count": 13,
   "metadata": {},
   "outputs": [],
   "source": [
    "classifier = nltk.NaiveBayesClassifier.train(train_set)"
   ]
  },
  {
   "cell_type": "code",
   "execution_count": 14,
   "metadata": {},
   "outputs": [
    {
     "name": "stdout",
     "output_type": "stream",
     "text": [
      "male\n",
      "female\n"
     ]
    }
   ],
   "source": [
    "# classify new instances\n",
    "print(classifier.classify(gender_features('Neo')))\n",
    "print(classifier.classify(gender_features('Trinity')))"
   ]
  },
  {
   "cell_type": "markdown",
   "metadata": {},
   "source": [
    "We can the compute the accuracy of the classifier on the test set.  \n",
    "The accuracy function for each classifier:\n",
    "* first removes the gender labels from the test set,\n",
    "* runs the classifier on each name in the test set to get a predicted gender, and \n",
    "* compares the predicted gender with each actual gender from the test set to get the evaluation score.  \n",
    "\n",
    "In this case, it just produces an accuracy score, instead of precision and recall."
   ]
  },
  {
   "cell_type": "code",
   "execution_count": 15,
   "metadata": {},
   "outputs": [
    {
     "name": "stdout",
     "output_type": "stream",
     "text": [
      "0.764\n"
     ]
    }
   ],
   "source": [
    "# classify accuracy function runs the classifier on the test set and reports\n",
    "#   comparisons between predicted labels and actual/gold labels\n",
    "print(nltk.classify.accuracy(classifier, test_set))"
   ]
  },
  {
   "cell_type": "code",
   "execution_count": 16,
   "metadata": {},
   "outputs": [
    {
     "name": "stdout",
     "output_type": "stream",
     "text": [
      "Most Informative Features\n",
      "             last_letter = 'a'            female : male   =     34.6 : 1.0\n",
      "             last_letter = 'k'              male : female =     32.9 : 1.0\n",
      "             last_letter = 'f'              male : female =     15.8 : 1.0\n",
      "             last_letter = 'p'              male : female =     12.4 : 1.0\n",
      "             last_letter = 'm'              male : female =     10.5 : 1.0\n",
      "             last_letter = 'd'              male : female =      9.9 : 1.0\n",
      "             last_letter = 'v'              male : female =      9.8 : 1.0\n",
      "             last_letter = 'o'              male : female =      8.1 : 1.0\n",
      "             last_letter = 'r'              male : female =      6.8 : 1.0\n",
      "             last_letter = 'w'              male : female =      5.0 : 1.0\n",
      "             last_letter = 'g'              male : female =      4.6 : 1.0\n",
      "             last_letter = 't'              male : female =      4.5 : 1.0\n",
      "             last_letter = 's'              male : female =      4.1 : 1.0\n",
      "             last_letter = 'j'              male : female =      3.9 : 1.0\n",
      "             last_letter = 'i'            female : male   =      3.6 : 1.0\n",
      "             last_letter = 'z'              male : female =      3.5 : 1.0\n",
      "             last_letter = 'b'              male : female =      3.5 : 1.0\n",
      "             last_letter = 'u'              male : female =      3.0 : 1.0\n",
      "             last_letter = 'n'              male : female =      2.1 : 1.0\n",
      "             last_letter = 'e'            female : male   =      1.8 : 1.0\n",
      "None\n"
     ]
    }
   ],
   "source": [
    "# this function available for naive bayes classifiers\n",
    "print(classifier.show_most_informative_features(20))"
   ]
  },
  {
   "cell_type": "code",
   "execution_count": 17,
   "metadata": {},
   "outputs": [],
   "source": [
    "# define a function that will compare the classifier labels with the gold standard labels\n",
    "def geterrors(test):\n",
    "    errors = []\n",
    "    for (name, tag) in test:\n",
    "        guess = classifier.classify(gender_features(name))\n",
    "        if guess != tag:\n",
    "            errors.append( (tag, guess, name) )\n",
    "    return errors"
   ]
  },
  {
   "cell_type": "code",
   "execution_count": 18,
   "metadata": {},
   "outputs": [
    {
     "name": "stdout",
     "output_type": "stream",
     "text": [
      "118\n"
     ]
    }
   ],
   "source": [
    "errors = geterrors(test_names)\n",
    "print(len(errors))"
   ]
  },
  {
   "cell_type": "code",
   "execution_count": 19,
   "metadata": {},
   "outputs": [
    {
     "name": "stdout",
     "output_type": "stream",
     "text": [
      "correct=female   guess=male     name=Allys                         \n",
      "correct=female   guess=male     name=Ardys                         \n",
      "correct=female   guess=male     name=Ashlen                        \n",
      "correct=female   guess=male     name=Brett                         \n",
      "correct=female   guess=male     name=Bridgett                      \n",
      "correct=female   guess=male     name=Caren                         \n",
      "correct=female   guess=male     name=Carmel                        \n",
      "correct=female   guess=male     name=Caron                         \n",
      "correct=female   guess=male     name=Carroll                       \n",
      "correct=female   guess=male     name=Cathleen                      \n",
      "correct=female   guess=male     name=Cathrin                       \n",
      "correct=female   guess=male     name=Coleen                        \n",
      "correct=female   guess=male     name=Cris                          \n",
      "correct=female   guess=male     name=Darleen                       \n",
      "correct=female   guess=male     name=Demeter                       \n",
      "correct=female   guess=male     name=Doll                          \n",
      "correct=female   guess=male     name=Fallon                        \n",
      "correct=female   guess=male     name=Fiann                         \n",
      "correct=female   guess=male     name=Garnet                        \n",
      "correct=female   guess=male     name=Gertrudis                     \n",
      "correct=female   guess=male     name=Glen                          \n",
      "correct=female   guess=male     name=Harriot                       \n",
      "correct=female   guess=male     name=Janot                         \n",
      "correct=female   guess=male     name=Justin                        \n",
      "correct=female   guess=male     name=Karin                         \n",
      "correct=female   guess=male     name=Kat                           \n",
      "correct=female   guess=male     name=Kial                          \n",
      "correct=female   guess=male     name=Kirstin                       \n",
      "correct=female   guess=male     name=Kris                          \n",
      "correct=female   guess=male     name=Laureen                       \n",
      "correct=female   guess=male     name=Leland                        \n",
      "correct=female   guess=male     name=Lilian                        \n",
      "correct=female   guess=male     name=Lillian                       \n",
      "correct=female   guess=male     name=Lin                           \n",
      "correct=female   guess=male     name=Lorain                        \n",
      "correct=female   guess=male     name=Maridel                       \n",
      "correct=female   guess=male     name=Marigold                      \n",
      "correct=female   guess=male     name=Marillin                      \n",
      "correct=female   guess=male     name=Maryangelyn                   \n",
      "correct=female   guess=male     name=Maryjo                        \n",
      "correct=female   guess=male     name=Mellicent                     \n",
      "correct=female   guess=male     name=Mignon                        \n",
      "correct=female   guess=male     name=Millisent                     \n",
      "correct=female   guess=male     name=Mureil                        \n",
      "correct=female   guess=male     name=Nan                           \n",
      "correct=female   guess=male     name=Pam                           \n",
      "correct=female   guess=male     name=Pegeen                        \n",
      "correct=female   guess=male     name=Pet                           \n",
      "correct=female   guess=male     name=Pris                          \n",
      "correct=female   guess=male     name=Raynell                       \n",
      "correct=female   guess=male     name=Renell                        \n",
      "correct=female   guess=male     name=Robbin                        \n",
      "correct=female   guess=male     name=Rosabel                       \n",
      "correct=female   guess=male     name=Ryann                         \n",
      "correct=female   guess=male     name=Sal                           \n",
      "correct=female   guess=male     name=Sam                           \n",
      "correct=female   guess=male     name=Sara-Ann                      \n",
      "correct=female   guess=male     name=Scarlet                       \n",
      "correct=female   guess=male     name=Shannon                       \n",
      "correct=female   guess=male     name=Shawn                         \n",
      "correct=female   guess=male     name=Shir                          \n",
      "correct=female   guess=male     name=Tatum                         \n",
      "correct=female   guess=male     name=Tomiko                        \n",
      "correct=female   guess=male     name=Winnifred                     \n",
      "correct=male     guess=female   name=Abby                          \n",
      "correct=male     guess=female   name=Abdullah                      \n",
      "correct=male     guess=female   name=Alfonse                       \n",
      "correct=male     guess=female   name=Bealle                        \n",
      "correct=male     guess=female   name=Bjorne                        \n",
      "correct=male     guess=female   name=Brody                         \n",
      "correct=male     guess=female   name=Case                          \n",
      "correct=male     guess=female   name=Chevy                         \n",
      "correct=male     guess=female   name=Cory                          \n",
      "correct=male     guess=female   name=Dannie                        \n",
      "correct=male     guess=female   name=Demetre                       \n",
      "correct=male     guess=female   name=Dennie                        \n",
      "correct=male     guess=female   name=Dickey                        \n",
      "correct=male     guess=female   name=Dmitri                        \n",
      "correct=male     guess=female   name=Durante                       \n",
      "correct=male     guess=female   name=Eddie                         \n",
      "correct=male     guess=female   name=Emery                         \n",
      "correct=male     guess=female   name=Emory                         \n",
      "correct=male     guess=female   name=Felix                         \n",
      "correct=male     guess=female   name=Guthrey                       \n",
      "correct=male     guess=female   name=Herculie                      \n",
      "correct=male     guess=female   name=Humphrey                      \n",
      "correct=male     guess=female   name=Jeromy                        \n",
      "correct=male     guess=female   name=Jerry                         \n",
      "correct=male     guess=female   name=Jeth                          \n",
      "correct=male     guess=female   name=Lance                         \n",
      "correct=male     guess=female   name=Leslie                        \n",
      "correct=male     guess=female   name=Maurie                        \n",
      "correct=male     guess=female   name=Mortie                        \n",
      "correct=male     guess=female   name=Noble                         \n",
      "correct=male     guess=female   name=Osborne                       \n",
      "correct=male     guess=female   name=Pattie                        \n",
      "correct=male     guess=female   name=Pryce                         \n",
      "correct=male     guess=female   name=Rickey                        \n",
      "correct=male     guess=female   name=Roni                          \n",
      "correct=male     guess=female   name=Sayre                         \n",
      "correct=male     guess=female   name=See                           \n",
      "correct=male     guess=female   name=Shane                         \n",
      "correct=male     guess=female   name=Shayne                        \n",
      "correct=male     guess=female   name=Siddhartha                    \n",
      "correct=male     guess=female   name=Skippie                       \n",
      "correct=male     guess=female   name=Skippy                        \n",
      "correct=male     guess=female   name=Tallie                        \n",
      "correct=male     guess=female   name=Tedie                         \n",
      "correct=male     guess=female   name=Thaine                        \n",
      "correct=male     guess=female   name=Thornie                       \n",
      "correct=male     guess=female   name=Tommie                        \n",
      "correct=male     guess=female   name=Uriah                         \n",
      "correct=male     guess=female   name=Verne                         \n",
      "correct=male     guess=female   name=Vite                          \n",
      "correct=male     guess=female   name=Welsh                         \n",
      "correct=male     guess=female   name=Wesley                        \n",
      "correct=male     guess=female   name=Woody                         \n",
      "correct=male     guess=female   name=Yance                         \n"
     ]
    }
   ],
   "source": [
    "# define a function to print the errors\n",
    "def printerrors(errors):\n",
    "    for (tag, guess, name) in sorted(errors):\n",
    "        print('correct={:<8s} guess={:<8s} name={:<30s}'.format(tag, guess, name))\n",
    "\n",
    "printerrors(errors)"
   ]
  },
  {
   "cell_type": "code",
   "execution_count": 20,
   "metadata": {},
   "outputs": [],
   "source": [
    "## classify part of speech based on sentence context\n",
    "from nltk.corpus import brown"
   ]
  },
  {
   "cell_type": "code",
   "execution_count": 21,
   "metadata": {},
   "outputs": [],
   "source": [
    "# define features for the \"i\"th word in the sentence, including three types of suffix \n",
    "#     and one pre-word\n",
    "# the pos features function takes the sentence of untagged words and the index of a word i\n",
    "#   it creates features for word i, including the previous word i-1\n",
    "def pos_features(sentence, i):    \n",
    "    features = {\"suffix(1)\": sentence[i][-1:],\n",
    "                 \"suffix(2)\": sentence[i][-2:],\n",
    "                 \"suffix(3)\": sentence[i][-3:]}\n",
    "    if i == 0:\n",
    "        features[\"prev-word\"] = \"<START>\"\n",
    "    else:\n",
    "        features[\"prev-word\"] = sentence[i-1]\n",
    "    return features \n"
   ]
  },
  {
   "cell_type": "code",
   "execution_count": 22,
   "metadata": {},
   "outputs": [
    {
     "name": "stdout",
     "output_type": "stream",
     "text": [
      "['The', 'Fulton', 'County', 'Grand', 'Jury', 'said', 'Friday', 'an', 'investigation', 'of', \"Atlanta's\", 'recent', 'primary', 'election', 'produced', '``', 'no', 'evidence', \"''\", 'that', 'any', 'irregularities', 'took', 'place', '.']\n"
     ]
    }
   ],
   "source": [
    "# look at features of a specific word in a specific sentence\n",
    "# first sentence of brown corpus\n",
    "sentence0 = brown.sents()[0]\n",
    "print(sentence0)"
   ]
  },
  {
   "cell_type": "code",
   "execution_count": 23,
   "metadata": {},
   "outputs": [
    {
     "name": "stdout",
     "output_type": "stream",
     "text": [
      "investigation\n"
     ]
    }
   ],
   "source": [
    "# word 8 of sentence 0\n",
    "print(sentence0[8])"
   ]
  },
  {
   "cell_type": "code",
   "execution_count": 24,
   "metadata": {},
   "outputs": [
    {
     "name": "stdout",
     "output_type": "stream",
     "text": [
      "{'suffix(1)': 'n', 'suffix(2)': 'on', 'suffix(3)': 'ion', 'prev-word': 'an'}\n"
     ]
    }
   ],
   "source": [
    "# pos features of the word 8 \n",
    "print(pos_features(sentence0, 8))"
   ]
  },
  {
   "cell_type": "code",
   "execution_count": 25,
   "metadata": {},
   "outputs": [
    {
     "data": {
      "text/plain": [
       "[('The', 'AT'),\n",
       " ('Fulton', 'NP-TL'),\n",
       " ('County', 'NN-TL'),\n",
       " ('Grand', 'JJ-TL'),\n",
       " ('Jury', 'NN-TL'),\n",
       " ('said', 'VBD'),\n",
       " ('Friday', 'NR'),\n",
       " ('an', 'AT'),\n",
       " ('investigation', 'NN'),\n",
       " ('of', 'IN'),\n",
       " (\"Atlanta's\", 'NP$'),\n",
       " ('recent', 'JJ'),\n",
       " ('primary', 'NN'),\n",
       " ('election', 'NN'),\n",
       " ('produced', 'VBD'),\n",
       " ('``', '``'),\n",
       " ('no', 'AT'),\n",
       " ('evidence', 'NN'),\n",
       " (\"''\", \"''\"),\n",
       " ('that', 'CS'),\n",
       " ('any', 'DTI'),\n",
       " ('irregularities', 'NNS'),\n",
       " ('took', 'VBD'),\n",
       " ('place', 'NN'),\n",
       " ('.', '.')]"
      ]
     },
     "execution_count": 25,
     "metadata": {},
     "output_type": "execute_result"
    }
   ],
   "source": [
    "# get the POS tagged sentences with categories of news\n",
    "tagged_sents = brown.tagged_sents(categories='news')\n",
    "tag_sent0 = tagged_sents[0]\n",
    "tag_sent0"
   ]
  },
  {
   "cell_type": "code",
   "execution_count": 26,
   "metadata": {},
   "outputs": [
    {
     "data": {
      "text/plain": [
       "['The',\n",
       " 'Fulton',\n",
       " 'County',\n",
       " 'Grand',\n",
       " 'Jury',\n",
       " 'said',\n",
       " 'Friday',\n",
       " 'an',\n",
       " 'investigation',\n",
       " 'of',\n",
       " \"Atlanta's\",\n",
       " 'recent',\n",
       " 'primary',\n",
       " 'election',\n",
       " 'produced',\n",
       " '``',\n",
       " 'no',\n",
       " 'evidence',\n",
       " \"''\",\n",
       " 'that',\n",
       " 'any',\n",
       " 'irregularities',\n",
       " 'took',\n",
       " 'place',\n",
       " '.']"
      ]
     },
     "execution_count": 26,
     "metadata": {},
     "output_type": "execute_result"
    }
   ],
   "source": [
    "# the function nltk.tag.untag will take the tags off\n",
    "nltk.tag.untag(tag_sent0)"
   ]
  },
  {
   "cell_type": "code",
   "execution_count": 27,
   "metadata": {},
   "outputs": [
    {
     "name": "stdout",
     "output_type": "stream",
     "text": [
      "0 The AT\n",
      "1 Fulton NP-TL\n",
      "2 County NN-TL\n",
      "3 Grand JJ-TL\n",
      "4 Jury NN-TL\n",
      "5 said VBD\n",
      "6 Friday NR\n",
      "7 an AT\n",
      "8 investigation NN\n",
      "9 of IN\n",
      "10 Atlanta's NP$\n",
      "11 recent JJ\n",
      "12 primary NN\n",
      "13 election NN\n",
      "14 produced VBD\n",
      "15 `` ``\n",
      "16 no AT\n",
      "17 evidence NN\n",
      "18 '' ''\n",
      "19 that CS\n",
      "20 any DTI\n",
      "21 irregularities NNS\n",
      "22 took VBD\n",
      "23 place NN\n",
      "24 . .\n"
     ]
    }
   ],
   "source": [
    "# the python enumerate function generates an index number for each item in a list\n",
    "for i,(word,tag) in enumerate(tag_sent0):\n",
    "    print (i, word, tag)"
   ]
  },
  {
   "cell_type": "code",
   "execution_count": 29,
   "metadata": {},
   "outputs": [],
   "source": [
    "# get feature sets of words appearing in the corpus, from untagged sentences.\n",
    "# and then get their tags from corresponding tagged sentence\n",
    "# use the Python function enumerate to pair the index numbers with sentence words \n",
    "#   for the pos features function\n",
    "featuresets = []\n",
    "for tagged_sent in tagged_sents:\n",
    "    untagged_sent = nltk.tag.untag(tagged_sent)\n",
    "    for i, (word, tag) in enumerate(tagged_sent):\n",
    "        featuresets.append( (pos_features(untagged_sent, i), tag) )"
   ]
  },
  {
   "cell_type": "code",
   "execution_count": 31,
   "metadata": {},
   "outputs": [
    {
     "name": "stdout",
     "output_type": "stream",
     "text": [
      "({'suffix(1)': 'e', 'suffix(2)': 'he', 'suffix(3)': 'The', 'prev-word': '<START>'}, 'AT')\n",
      "({'suffix(1)': 'n', 'suffix(2)': 'on', 'suffix(3)': 'ton', 'prev-word': 'The'}, 'NP-TL')\n",
      "({'suffix(1)': 'y', 'suffix(2)': 'ty', 'suffix(3)': 'nty', 'prev-word': 'Fulton'}, 'NN-TL')\n",
      "({'suffix(1)': 'd', 'suffix(2)': 'nd', 'suffix(3)': 'and', 'prev-word': 'County'}, 'JJ-TL')\n",
      "({'suffix(1)': 'y', 'suffix(2)': 'ry', 'suffix(3)': 'ury', 'prev-word': 'Grand'}, 'NN-TL')\n",
      "({'suffix(1)': 'd', 'suffix(2)': 'id', 'suffix(3)': 'aid', 'prev-word': 'Jury'}, 'VBD')\n",
      "({'suffix(1)': 'y', 'suffix(2)': 'ay', 'suffix(3)': 'day', 'prev-word': 'said'}, 'NR')\n",
      "({'suffix(1)': 'n', 'suffix(2)': 'an', 'suffix(3)': 'an', 'prev-word': 'Friday'}, 'AT')\n",
      "({'suffix(1)': 'n', 'suffix(2)': 'on', 'suffix(3)': 'ion', 'prev-word': 'an'}, 'NN')\n",
      "({'suffix(1)': 'f', 'suffix(2)': 'of', 'suffix(3)': 'of', 'prev-word': 'investigation'}, 'IN')\n"
     ]
    }
   ],
   "source": [
    "# look at the feature sets of the first 10 words\n",
    "for f in featuresets[:10]:\n",
    "    print (f)"
   ]
  },
  {
   "cell_type": "code",
   "execution_count": 32,
   "metadata": {},
   "outputs": [
    {
     "name": "stdout",
     "output_type": "stream",
     "text": [
      "90499\n",
      "10055\n"
     ]
    }
   ],
   "source": [
    "# using naive Bayesian as classifier\n",
    "# split data into a training set and a test set, using a 90%/10% split\n",
    "size = int(len(featuresets) * 0.1)\n",
    "train_set, test_set = featuresets[size:], featuresets[:size]\n",
    "print(len(train_set))\n",
    "print(len(test_set))"
   ]
  },
  {
   "cell_type": "code",
   "execution_count": 34,
   "metadata": {},
   "outputs": [
    {
     "name": "stdout",
     "output_type": "stream",
     "text": [
      "0.7891596220785678\n"
     ]
    }
   ],
   "source": [
    "# train classifier on the training set\n",
    "classifier = nltk.NaiveBayesClassifier.train(train_set)\n",
    "\n",
    "# evaluate the accuracy (this will take a little while)\n",
    "print(nltk.classify.accuracy(classifier, test_set))\n",
    "# the result is reasonable for features without the previous tag\n"
   ]
  },
  {
   "cell_type": "code",
   "execution_count": 36,
   "metadata": {},
   "outputs": [
    {
     "name": "stdout",
     "output_type": "stream",
     "text": [
      "['neg', 'pos']\n"
     ]
    }
   ],
   "source": [
    "### classify documents based on keywords\n",
    "from nltk.corpus import movie_reviews\n",
    "import random\n",
    "\n",
    "# movie reviews are labeled either positive or negative (by human annotators)\n",
    "print(movie_reviews.categories())"
   ]
  },
  {
   "cell_type": "code",
   "execution_count": 37,
   "metadata": {},
   "outputs": [
    {
     "name": "stdout",
     "output_type": "stream",
     "text": [
      "2000\n"
     ]
    }
   ],
   "source": [
    "# for each document in movie_reviews, get its words and category (positive/negative)\n",
    "documents = [(list(movie_reviews.words(fileid)), category)\n",
    "              for category in movie_reviews.categories()\n",
    "              for fileid in movie_reviews.fileids(category)]\n",
    "print(len(documents))\n"
   ]
  },
  {
   "cell_type": "code",
   "execution_count": 38,
   "metadata": {},
   "outputs": [
    {
     "name": "stdout",
     "output_type": "stream",
     "text": [
      "(['five', 'girls', 'spend', 'a', 'day', 'in', 'a', 'closed', 'building', 'doing', 'inventory', 'when', 'a', 'strange', 'box', 'gets', 'delivered', 'there', '(', 'is', 'this', 'starting', 'to', 'sound', 'familiar', '?', ')', 'by', 'mistake', '.', 'the', 'girls', 'accidentlly', 'open', 'the', 'box', '(', 'big', 'surprise', ',', 'huh', '!', ')', 'and', 'release', 'an', 'evil', 'spirit', 'of', 'a', 'killer', 'that', 'kills', 'the', 'girls', 'off', 'one', 'by', 'one', '(', 'betcha', 'didn', \"'\", 't', 'see', 'that', 'one', 'coming', '!', ')', '.', 'hard', 'to', 'die', ',', 'i', 'found', 'out', 'while', 'watching', 'the', 'film', ',', 'is', 'a', 'sequel', 'to', 'sorority', 'house', 'massacre', '2', ':', 'nightie', 'nightmare', '(', 'r', '.', 'a', '.', 'm', '.', 'r', '.', '#', '1521', ')', '.', 'two', 'of', 'the', 'actresses', 'from', 'sorority', 'house', 'massacre', '2', 'are', 'in', 'this', 'film', ',', 'robyn', 'harris', 'and', 'melissa', 'moore', ',', 'but', 'they', 'play', 'different', 'characters', 'here', '.', 'orville', 'ketchum', 'is', 'also', 'back', 'as', '(', 'get', 'ready', 'for', 'this', ')', 'orville', 'ketchum', '(', 'yes', ',', 'the', 'same', 'character', 'from', 'number', 'two', ')', '.', 'yes', ',', 'he', 'is', 'also', 'built', 'like', 'a', 'tank', 'in', 'this', 'film', 'too', '.', 'i', \"'\", 'm', 'telling', 'you', ',', 'a', 'nuclear', 'bomb', 'detonated', 'next', 'to', 'this', 'man', 'wouldn', \"'\", 't', 'harm', 'him', 'at', 'all', '!', 'the', 'before', 'mentioned', 'three', 'were', 'the', 'only', 'actors', 'from', 'part', 'two', 'that', 'i', 'thought', 'could', 'act', ',', 'well', 'they', 'seemed', 'to', 'have', 'lost', 'that', 'ability', '.', 'thankfully', ',', 'for', 'my', 'sanity', ',', 'i', 'also', 'saw', 'the', 'film', 'warlock', ',', 'which', 'undid', 'all', 'the', 'ill', 'effects', 'that', 'i', 'got', 'from', 'this', 'film', '.', 'the', 'story', 'for', 'this', 'film', 'is', 'completely', 'ridiculous', 'and', 'has', 'many', 'elements', 'from', 'many', 'cheapo', 'low', 'budget', 'horror', 'flicks', '.', 'any', 'good', 'moments', 'that', 'this', 'film', 'fails', 'to', 'make', 'are', 'even', 'more', 'destroyed', 'by', 'the', 'story', 'line', '.', 'the', 'film', 'is', 'so', 'pathetically', 'predictable', 'that', 'every', 'moment', 'has', 'already', 'been', 'figured', 'out', ',', 'analyzed', ',', 'and', 'discarded', 'before', 'it', 'happens', '.', 'there', 'is', 'no', 'point', 'in', 'this', 'film', 'that', 'any', 'suspense', 'is', 'ever', 'afoot', '.', 'while', 'we', 'are', 'on', 'the', 'subject', 'of', 'the', 'story', ',', 'the', 'story', 'also', 'provides', 'every', 'chance', 'it', 'can', 'to', 'disrobe', 'an', 'actress', '.', 'the', 'film', 'goes', 'to', 'the', 'extent', 'of', 'putting', 'a', 'shower', 'in', 'the', 'manager', \"'\", 's', 'office', '.', 'i', \"'\", 'm', 'sorry', 'folks', 'but', 'this', 'is', 'completely', 'unnecessary', ',', 'ridiculous', ',', 'and', 'hurts', 'the', 'story', 'more', '(', 'if', 'that', 'is', 'still', 'possible', ')', '.', 'the', 'script', 'for', 'this', 'film', 'is', 'completely', 'pathetic', '.', 'the', 'lines', 'the', 'actresses', 'come', 'out', 'with', 'are', 'completely', 'horrible', '.', 'the', 'only', 'thing', 'that', 'i', 'think', 'could', 'have', 'happened', 'is', 'that', 'the', 'actors', 'made', 'up', 'the', 'script', 'as', 'they', 'went', 'along', '.', 'here', 'is', 'an', 'example', 'of', 'the', 'wonderful', 'dialog', '.', 'the', 'scene', 'is', 'two', 'girls', 'have', 'just', 'entered', 'a', 'gun', 'store', 'and', 'have', 'picked', 'out', 'a', '*', 'really', '*', 'big', 'gun', '.', 'the', 'line', 'is', '\"', 'my', 'dad', 'used', 'to', 'be', 'a', 'marine', ',', 'i', 'bet', 'i', 'can', 'work', 'it', '.', '\"', 'this', 'line', 'has', 'got', 'to', 'be', 'a', 'contender', 'for', 'the', 'bad', 'line', 'hall', 'of', 'infamy', '.', 'now', ',', 'we', 'fast', 'forward', 'for', 'a', 'few', 'minutes', 'until', 'just', 'after', 'a', 'big', 'plan', '(', '?', '!', '!', '?', ')', 'has', 'been', 'presented', '.', 'one', 'comment', 'from', 'an', 'actress', 'is', '\"', 'not', 'a', 'lot', 'of', 'strategy', 'involved', ',', 'but', 'i', 'like', 'it', '.', '\"', 'i', \"'\", 'm', 'afraid', 'folks', 'that', 'this', 'is', 'about', 'as', 'good', 'as', 'they', 'get', '.', 'now', 'lets', 'talk', 'about', 'the', 'great', 'special', 'effects', 'for', 'this', 'film', '.', 'this', 'obviously', 'wasn', \"'\", 't', 'a', 'big', 'concern', 'of', 'the', 'film', 'makers', '.', 'the', 'killing', 'scenes', 'are', 'so', 'obviously', 'faked', 'that', 'they', 'go', 'to', 'the', 'point', 'of', 'threatening', 'the', 'viewer', \"'\", 's', 'intelligence', '.', 'a', 'girl', 'gets', 'hacked', 'with', 'a', 'knife', 'and', 'enough', 'blood', 'comes', 'out', 'to', 'do', 'one', 'friday', 'the', '13th', 'movie', '.', 'are', 'we', 'trying', 'to', 'see', 'how', 'unrealistic', 'we', 'can', 'get', '?', 'the', 'continuity', 'department', 'was', 'obviously', 'asleep', '(', 'along', 'with', 'the', 'viewers', ')', 'when', 'watching', 'this', 'film', '.', 'in', 'one', 'shot', ',', 'actress', 'has', 'cloths', 'on', ',', 'camera', 'angle', 'changes', ',', 'actress', 'seems', 'to', 'have', 'lost', 'clothing', '.', 'very', 'impressive', 'trick', '!', 'the', 'one', '(', 'half', '?', ')', 'plus', 'that', 'this', 'film', 'has', 'going', 'for', 'it', ',', 'is', 'that', 'in', 'many', 'places', 'it', 'is', 'unintentionally', 'hilarious', '.', 'the', 'incompetence', 'behind', 'the', 'film', 'makes', 'it', 'incredibly', 'funny', ',', 'and', 'so', 'the', 'viewer', 'can', 'get', 'some', 'enjoyment', '(', '?', '!', '!', '?', ')', 'from', 'the', 'film', '.', 'however', ',', 'this', 'doesn', \"'\", 't', 'make', 'it', 'worth', 'the', 'rental', 'fee', 'of', 'over', 'a', 'penny', '.', 'in', 'the', 'acting', 'department', ',', 'the', 'only', 'thing', 'i', 'can', 'say', 'is', 'two', 'thumbs', 'squared', 'and', 'one', 'head', 'down', '.', 'i', 'would', 'normally', 'do', 'a', 'detailed', 'paragraph', 'on', 'this', 'topic', ',', 'but', 'there', 'is', 'no', 'point', 'here', 'because', 'there', 'is', 'nobody', 'that', 'i', 'was', 'impressed', 'with', 'in', 'the', 'least', '.', 'oh', 'well', ',', 'win', 'some', ',', 'lose', 'some', '.'], 'neg')\n"
     ]
    }
   ],
   "source": [
    "random.shuffle(documents)\n",
    "# look at the first document - consists of a list of all the words in the review\n",
    "# followed by the category\n",
    "print(documents[0])"
   ]
  },
  {
   "cell_type": "code",
   "execution_count": 39,
   "metadata": {},
   "outputs": [
    {
     "name": "stdout",
     "output_type": "stream",
     "text": [
      "39768\n"
     ]
    }
   ],
   "source": [
    "## use words from all documents to define the word vector for features\n",
    "# get all words from all movie_reviews and put into a frequency distribution\n",
    "all_words = nltk.FreqDist(w.lower() for w in movie_reviews.words())\n",
    "print(len(all_words))"
   ]
  },
  {
   "cell_type": "code",
   "execution_count": 40,
   "metadata": {},
   "outputs": [
    {
     "name": "stdout",
     "output_type": "stream",
     "text": [
      "[',', 'the', '.', 'a', 'and', 'of', 'to', \"'\", 'is', 'in', 's', '\"', 'it', 'that', '-', ')', '(', 'as', 'with', 'for', 'his', 'this', 'film', 'i', 'he', 'but', 'on', 'are', 't', 'by', 'be', 'one', 'movie', 'an', 'who', 'not', 'you', 'from', 'at', 'was', 'have', 'they', 'has', 'her', 'all', '?', 'there', 'like', 'so', 'out', 'about', 'up', 'more', 'what', 'when', 'which', 'or', 'she', 'their', ':', 'some', 'just', 'can', 'if', 'we', 'him', 'into', 'even', 'only', 'than', 'no', 'good', 'time', 'most', 'its', 'will', 'story', 'would', 'been', 'much', 'character', 'also', 'get', 'other', 'do', 'two', 'well', 'them', 'very', 'characters', ';', 'first', '--', 'after', 'see', '!', 'way', 'because', 'make', 'life']\n"
     ]
    }
   ],
   "source": [
    "# get the 2000 most frequently appearing keywords in the corpus\n",
    "word_items = all_words.most_common(2000)\n",
    "word_features = [word for (word, freq) in word_items]   # just the words\n",
    "\n",
    "# look at the first 100 words\n",
    "print(word_features[:100])"
   ]
  },
  {
   "cell_type": "code",
   "execution_count": 41,
   "metadata": {},
   "outputs": [
    {
     "name": "stdout",
     "output_type": "stream",
     "text": [
      "({'V_,': True, 'V_the': True, 'V_.': True, 'V_a': True, 'V_and': True, 'V_of': True, 'V_to': True, \"V_'\": True, 'V_is': True, 'V_in': True, 'V_s': True, 'V_\"': True, 'V_it': True, 'V_that': True, 'V_-': False, 'V_)': True, 'V_(': True, 'V_as': True, 'V_with': True, 'V_for': True, 'V_his': False, 'V_this': True, 'V_film': True, 'V_i': True, 'V_he': True, 'V_but': True, 'V_on': True, 'V_are': True, 'V_t': True, 'V_by': True, 'V_be': True, 'V_one': True, 'V_movie': True, 'V_an': True, 'V_who': False, 'V_not': True, 'V_you': True, 'V_from': True, 'V_at': True, 'V_was': True, 'V_have': True, 'V_they': True, 'V_has': True, 'V_her': False, 'V_all': True, 'V_?': True, 'V_there': True, 'V_like': True, 'V_so': True, 'V_out': True, 'V_about': True, 'V_up': True, 'V_more': True, 'V_what': False, 'V_when': True, 'V_which': True, 'V_or': False, 'V_she': False, 'V_their': False, 'V_:': True, 'V_some': True, 'V_just': True, 'V_can': True, 'V_if': True, 'V_we': True, 'V_him': True, 'V_into': False, 'V_even': True, 'V_only': True, 'V_than': False, 'V_no': True, 'V_good': True, 'V_time': False, 'V_most': False, 'V_its': False, 'V_will': False, 'V_story': True, 'V_would': True, 'V_been': True, 'V_much': False, 'V_character': True, 'V_also': True, 'V_get': True, 'V_other': False, 'V_do': True, 'V_two': True, 'V_well': True, 'V_them': False, 'V_very': True, 'V_characters': True, 'V_;': False, 'V_first': False, 'V_--': False, 'V_after': True, 'V_see': True, 'V_!': True, 'V_way': False, 'V_because': True, 'V_make': True, 'V_life': False, 'V_off': True, 'V_too': True, 'V_any': True, 'V_does': False, 'V_really': True, 'V_had': False, 'V_while': True, 'V_films': False, 'V_how': True, 'V_plot': False, 'V_little': False, 'V_where': False, 'V_people': False, 'V_over': True, 'V_could': True, 'V_then': False, 'V_me': False, 'V_scene': True, 'V_man': True, 'V_bad': True, 'V_my': True, 'V_never': False, 'V_being': False, 'V_best': False, 'V_these': False, 'V_don': False, 'V_new': False, 'V_doesn': True, 'V_scenes': True, 'V_many': True, 'V_director': False, 'V_such': False, 'V_know': False, 'V_were': True, 'V_movies': False, 'V_through': False, 'V_here': True, 'V_action': False, 'V_great': True, 'V_re': False, 'V_another': False, 'V_love': False, 'V_go': True, 'V_made': True, 'V_us': False, 'V_big': True, 'V_end': False, 'V_something': False, 'V_back': True, 'V_*': True, 'V_still': True, 'V_world': False, 'V_seems': True, 'V_work': True, 'V_those': False, 'V_makes': True, 'V_now': True, 'V_before': True, 'V_however': True, 'V_between': False, 'V_few': True, 'V_/': False, 'V_down': True, 'V_every': True, 'V_though': False, 'V_better': False, 'V_real': False, 'V_audience': False, 'V_enough': True, 'V_seen': False, 'V_take': False, 'V_around': False, 'V_both': False, 'V_going': True, 'V_year': False, 'V_performance': False, 'V_why': False, 'V_should': False, 'V_role': False, 'V_isn': False, 'V_same': True, 'V_old': False, 'V_gets': True, 'V_your': False, 'V_may': False, 'V_things': False, 'V_think': True, 'V_years': False, 'V_last': False, 'V_comedy': False, 'V_funny': True, 'V_actually': False, 'V_ve': False, 'V_long': False, 'V_look': False, 'V_almost': False, 'V_own': False, 'V_thing': True, 'V_fact': False, 'V_nothing': False, 'V_say': True, 'V_right': False, 'V_john': False, 'V_although': False, 'V_played': False, 'V_find': False, 'V_script': True, 'V_come': True, 'V_ever': True, 'V_cast': False, 'V_since': False, 'V_did': False, 'V_star': False, 'V_plays': False, 'V_young': False, 'V_show': False, 'V_comes': True, 'V_m': True, 'V_part': True, 'V_original': False, 'V_actors': True, 'V_screen': False, 'V_without': False, 'V_again': False, 'V_acting': True, 'V_three': True, 'V_day': True, 'V_each': False, 'V_point': True, 'V_lot': True, 'V_least': True, 'V_takes': False, 'V_guy': False, 'V_quite': False, 'V_himself': False, 'V_away': False, 'V_during': False, 'V_family': False, 'V_effects': True, 'V_course': False, 'V_goes': True, 'V_minutes': True, 'V_interesting': False, 'V_might': False, 'V_far': False, 'V_high': False, 'V_rather': False, 'V_once': False, 'V_must': False, 'V_anything': False, 'V_place': False, 'V_set': False, 'V_yet': False, 'V_watch': False, 'V_d': False, 'V_making': False, 'V_our': False, 'V_wife': False, 'V_hard': True, 'V_always': False, 'V_fun': False, 'V_didn': True, 'V_ll': False, 'V_seem': False, 'V_special': True, 'V_bit': False, 'V_times': False, 'V_trying': True, 'V_hollywood': False, 'V_instead': False, 'V_give': False, 'V_want': False, 'V_picture': False, 'V_kind': False, 'V_american': False, 'V_job': False, 'V_sense': False, 'V_woman': False, 'V_home': False, 'V_having': False, 'V_series': False, 'V_actor': False, 'V_probably': False, 'V_help': False, 'V_half': True, 'V_along': True, 'V_men': False, 'V_everything': False, 'V_pretty': False, 'V_becomes': False, 'V_sure': False, 'V_black': False, 'V_together': False, 'V_dialogue': False, 'V_money': False, 'V_become': False, 'V_gives': False, 'V_given': False, 'V_looking': False, 'V_whole': False, 'V_watching': True, 'V_father': False, 'V_`': False, 'V_feel': False, 'V_everyone': False, 'V_music': False, 'V_wants': False, 'V_sex': False, 'V_less': False, 'V_done': False, 'V_horror': True, 'V_got': True, 'V_death': False, 'V_perhaps': False, 'V_city': False, 'V_next': True, 'V_especially': False, 'V_play': True, 'V_girl': True, 'V_mind': False, 'V_10': False, 'V_moments': True, 'V_looks': False, 'V_completely': True, 'V_2': True, 'V_reason': False, 'V_mother': False, 'V_whose': False, 'V_line': True, 'V_night': False, 'V_human': False, 'V_until': True, 'V_rest': False, 'V_performances': False, 'V_different': True, 'V_evil': True, 'V_small': False, 'V_james': False, 'V_simply': False, 'V_couple': False, 'V_put': False, 'V_let': False, 'V_anyone': False, 'V_ending': False, 'V_case': False, 'V_several': False, 'V_dead': False, 'V_michael': False, 'V_left': False, 'V_thought': True, 'V_school': False, 'V_shows': False, 'V_humor': False, 'V_true': False, 'V_lost': True, 'V_written': False, 'V_itself': False, 'V_friend': False, 'V_entire': False, 'V_getting': False, 'V_town': False, 'V_turns': False, 'V_soon': False, 'V_someone': False, 'V_second': False, 'V_main': False, 'V_stars': False, 'V_found': True, 'V_use': False, 'V_problem': False, 'V_friends': False, 'V_tv': False, 'V_top': False, 'V_name': False, 'V_begins': False, 'V_called': False, 'V_based': False, 'V_comic': False, 'V_david': False, 'V_head': True, 'V_else': False, 'V_idea': False, 'V_either': False, 'V_wrong': False, 'V_unfortunately': False, 'V_later': False, 'V_final': False, 'V_hand': False, 'V_alien': False, 'V_house': True, 'V_group': False, 'V_full': False, 'V_used': True, 'V_tries': False, 'V_often': False, 'V_against': False, 'V_war': False, 'V_sequence': False, 'V_keep': False, 'V_turn': False, 'V_playing': False, 'V_boy': False, 'V_behind': True, 'V_named': False, 'V_certainly': False, 'V_live': False, 'V_believe': False, 'V_under': False, 'V_works': False, 'V_relationship': False, 'V_face': False, 'V_hour': False, 'V_run': False, 'V_style': False, 'V_said': False, 'V_despite': False, 'V_person': False, 'V_finally': False, 'V_shot': True, 'V_book': False, 'V_doing': True, 'V_tell': False, 'V_maybe': False, 'V_nice': False, 'V_son': False, 'V_perfect': False, 'V_side': False, 'V_seeing': False, 'V_able': False, 'V_finds': False, 'V_children': False, 'V_days': False, 'V_past': False, 'V_summer': False, 'V_camera': True, 'V_won': False, 'V_including': False, 'V_mr': False, 'V_kids': False, 'V_lives': False, 'V_directed': False, 'V_moment': True, 'V_game': False, 'V_running': False, 'V_fight': False, 'V_supposed': False, 'V_video': False, 'V_car': False, 'V_matter': False, 'V_kevin': False, 'V_joe': False, 'V_lines': True, 'V_worth': True, 'V_=': False, 'V_daughter': False, 'V_earth': False, 'V_starts': False, 'V_need': False, 'V_entertaining': False, 'V_white': False, 'V_start': False, 'V_writer': False, 'V_dark': False, 'V_short': False, 'V_self': False, 'V_worst': False, 'V_nearly': False, 'V_opening': False, 'V_try': False, 'V_upon': False, 'V_care': False, 'V_early': False, 'V_violence': False, 'V_throughout': False, 'V_team': False, 'V_production': False, 'V_example': True, 'V_beautiful': False, 'V_title': False, 'V_exactly': False, 'V_jack': False, 'V_review': False, 'V_major': False, 'V_drama': False, 'V_&': False, 'V_problems': False, 'V_sequences': False, 'V_obvious': False, 'V_version': False, 'V_screenplay': False, 'V_known': False, 'V_killer': True, 'V_wasn': True, 'V_robert': False, 'V_disney': False, 'V_already': True, 'V_close': False, 'V_classic': False, 'V_others': False, 'V_hit': False, 'V_kill': False, 'V_deep': False, 'V_five': True, 'V_order': False, 'V_act': True, 'V_simple': False, 'V_fine': False, 'V_themselves': False, 'V_heart': False, 'V_roles': False, 'V_jackie': False, 'V_direction': False, 'V_eyes': False, 'V_four': False, 'V_question': False, 'V_sort': False, 'V_sometimes': False, 'V_knows': False, 'V_supporting': False, 'V_coming': True, 'V_voice': False, 'V_women': False, 'V_truly': False, 'V_save': False, 'V_jokes': False, 'V_computer': False, 'V_child': False, 'V_o': False, 'V_boring': False, 'V_tom': False, 'V_level': False, 'V_1': False, 'V_body': False, 'V_guys': False, 'V_genre': False, 'V_brother': False, 'V_strong': False, 'V_stop': False, 'V_room': False, 'V_space': False, 'V_lee': False, 'V_ends': False, 'V_beginning': False, 'V_ship': False, 'V_york': False, 'V_attempt': False, 'V_thriller': False, 'V_scream': False, 'V_peter': False, 'V_aren': False, 'V_husband': False, 'V_fiction': False, 'V_happens': True, 'V_hero': False, 'V_novel': False, 'V_note': False, 'V_hope': False, 'V_king': False, 'V_yes': True, 'V_says': False, 'V_tells': False, 'V_quickly': False, 'V_romantic': False, 'V_dog': False, 'V_oscar': False, 'V_stupid': False, 'V_possible': True, 'V_saw': True, 'V_lead': False, 'V_career': False, 'V_murder': False, 'V_extremely': False, 'V_manages': False, 'V_god': False, 'V_mostly': False, 'V_wonder': False, 'V_particularly': False, 'V_future': False, 'V_fans': False, 'V_sound': True, 'V_worse': False, 'V_piece': False, 'V_involving': False, 'V_de': False, 'V_appears': False, 'V_planet': False, 'V_paul': False, 'V_involved': True, 'V_mean': False, 'V_none': False, 'V_taking': False, 'V_hours': False, 'V_laugh': False, 'V_police': False, 'V_sets': False, 'V_attention': False, 'V_co': False, 'V_hell': False, 'V_eventually': False, 'V_single': False, 'V_fall': False, 'V_falls': False, 'V_material': False, 'V_emotional': False, 'V_power': False, 'V_late': False, 'V_lack': False, 'V_dr': False, 'V_van': False, 'V_result': False, 'V_elements': True, 'V_meet': False, 'V_smith': False, 'V_science': False, 'V_experience': False, 'V_bring': False, 'V_wild': False, 'V_living': False, 'V_theater': False, 'V_interest': False, 'V_leads': False, 'V_word': False, 'V_feature': False, 'V_battle': False, 'V_girls': True, 'V_alone': False, 'V_obviously': True, 'V_george': False, 'V_within': False, 'V_usually': False, 'V_enjoy': False, 'V_guess': False, 'V_among': False, 'V_taken': False, 'V_feeling': False, 'V_laughs': False, 'V_aliens': False, 'V_talk': True, 'V_chance': True, 'V_talent': False, 'V_3': False, 'V_middle': False, 'V_number': True, 'V_easy': False, 'V_across': False, 'V_needs': False, 'V_attempts': False, 'V_happen': False, 'V_television': False, 'V_chris': False, 'V_deal': False, 'V_poor': False, 'V_form': False, 'V_girlfriend': False, 'V_viewer': True, 'V_release': True, 'V_killed': False, 'V_forced': False, 'V_whether': False, 'V_wonderful': True, 'V_feels': False, 'V_oh': True, 'V_tale': False, 'V_serious': False, 'V_expect': False, 'V_except': False, 'V_light': False, 'V_success': False, 'V_features': False, 'V_premise': False, 'V_happy': False, 'V_words': False, 'V_leave': False, 'V_important': False, 'V_meets': False, 'V_history': False, 'V_giving': False, 'V_crew': False, 'V_type': False, 'V_call': False, 'V_turned': False, 'V_released': False, 'V_parents': False, 'V_art': False, 'V_impressive': True, 'V_mission': False, 'V_working': False, 'V_seemed': True, 'V_score': False, 'V_told': False, 'V_recent': False, 'V_robin': False, 'V_basically': False, 'V_entertainment': False, 'V_america': False, 'V_$': False, 'V_surprise': True, 'V_apparently': False, 'V_easily': False, 'V_ryan': False, 'V_cool': False, 'V_stuff': False, 'V_cop': False, 'V_change': False, 'V_williams': False, 'V_crime': False, 'V_office': True, 'V_parts': False, 'V_somehow': False, 'V_sequel': True, 'V_william': False, 'V_cut': False, 'V_die': True, 'V_jones': False, 'V_credits': False, 'V_batman': False, 'V_suspense': True, 'V_brings': False, 'V_events': False, 'V_reality': False, 'V_whom': False, 'V_local': False, 'V_talking': False, 'V_difficult': False, 'V_using': False, 'V_went': True, 'V_writing': False, 'V_remember': False, 'V_near': False, 'V_straight': False, 'V_hilarious': True, 'V_ago': False, 'V_certain': False, 'V_ben': False, 'V_kid': False, 'V_wouldn': True, 'V_slow': False, 'V_blood': True, 'V_mystery': False, 'V_complete': False, 'V_red': False, 'V_popular': False, 'V_effective': False, 'V_am': False, 'V_fast': True, 'V_flick': False, 'V_due': False, 'V_runs': False, 'V_gone': False, 'V_return': False, 'V_presence': False, 'V_quality': False, 'V_dramatic': False, 'V_filmmakers': False, 'V_age': False, 'V_brothers': False, 'V_business': False, 'V_general': False, 'V_rock': False, 'V_sexual': False, 'V_present': False, 'V_surprisingly': False, 'V_anyway': False, 'V_uses': False, 'V_4': False, 'V_personal': False, 'V_figure': False, 'V_smart': False, 'V_ways': False, 'V_decides': False, 'V_annoying': False, 'V_begin': False, 'V_couldn': False, 'V_somewhat': False, 'V_shots': False, 'V_rich': False, 'V_minute': False, 'V_law': False, 'V_previous': False, 'V_jim': False, 'V_successful': False, 'V_harry': False, 'V_water': False, 'V_similar': False, 'V_absolutely': False, 'V_motion': False, 'V_former': False, 'V_strange': True, 'V_came': False, 'V_follow': False, 'V_read': False, 'V_project': False, 'V_million': False, 'V_secret': False, 'V_starring': False, 'V_clear': False, 'V_familiar': True, 'V_romance': False, 'V_intelligent': False, 'V_third': False, 'V_excellent': False, 'V_amazing': False, 'V_party': False, 'V_budget': True, 'V_eye': False, 'V_actress': True, 'V_prison': False, 'V_latest': False, 'V_means': False, 'V_company': False, 'V_towards': False, 'V_predictable': True, 'V_powerful': False, 'V_nor': False, 'V_bob': False, 'V_beyond': False, 'V_visual': False, 'V_leaves': False, 'V_r': True, 'V_nature': False, 'V_following': False, 'V_villain': False, 'V_leaving': False, 'V_animated': False, 'V_low': True, 'V_myself': False, 'V_b': False, 'V_bill': False, 'V_sam': False, 'V_filled': False, 'V_wars': False, 'V_questions': False, 'V_cinema': False, 'V_message': False, 'V_box': True, 'V_moving': False, 'V_herself': False, 'V_country': False, 'V_usual': False, 'V_martin': False, 'V_definitely': False, 'V_add': False, 'V_large': False, 'V_clever': False, 'V_create': False, 'V_felt': False, 'V_stories': False, 'V_brilliant': False, 'V_ones': False, 'V_giant': False, 'V_situation': False, 'V_murphy': False, 'V_break': False, 'V_opens': False, 'V_scary': False, 'V_doubt': False, 'V_drug': False, 'V_bunch': False, 'V_thinking': False, 'V_solid': False, 'V_effect': False, 'V_learn': False, 'V_move': False, 'V_force': False, 'V_potential': False, 'V_seriously': False, 'V_follows': False, 'V_above': False, 'V_saying': False, 'V_huge': False, 'V_class': False, 'V_plan': True, 'V_agent': False, 'V_created': False, 'V_unlike': False, 'V_pay': False, 'V_non': False, 'V_married': False, 'V_mark': False, 'V_sweet': False, 'V_perfectly': False, 'V_ex': False, 'V_realize': False, 'V_audiences': False, 'V_took': False, 'V_decent': False, 'V_likely': False, 'V_dream': False, 'V_view': False, 'V_scott': False, 'V_subject': True, 'V_understand': False, 'V_happened': True, 'V_enjoyable': False, 'V_studio': False, 'V_immediately': False, 'V_open': True, 'V_e': False, 'V_points': False, 'V_heard': False, 'V_viewers': True, 'V_cameron': False, 'V_truman': False, 'V_bruce': False, 'V_frank': False, 'V_private': False, 'V_stay': False, 'V_fails': True, 'V_impossible': False, 'V_cold': False, 'V_richard': False, 'V_overall': False, 'V_merely': False, 'V_exciting': False, 'V_mess': False, 'V_chase': False, 'V_free': False, 'V_ten': False, 'V_neither': False, 'V_wanted': False, 'V_gun': True, 'V_appear': False, 'V_carter': False, 'V_escape': False, 'V_ultimately': False, 'V_+': False, 'V_fan': False, 'V_inside': False, 'V_favorite': False, 'V_haven': False, 'V_modern': False, 'V_l': False, 'V_wedding': False, 'V_stone': False, 'V_trek': False, 'V_brought': False, 'V_trouble': False, 'V_otherwise': False, 'V_tim': False, 'V_5': False, 'V_allen': False, 'V_bond': False, 'V_society': False, 'V_liked': False, 'V_dumb': False, 'V_musical': False, 'V_stand': False, 'V_political': False, 'V_various': False, 'V_talented': False, 'V_particular': False, 'V_west': False, 'V_state': False, 'V_keeps': False, 'V_english': False, 'V_silly': False, 'V_u': False, 'V_situations': False, 'V_park': False, 'V_teen': False, 'V_rating': False, 'V_slightly': False, 'V_steve': False, 'V_truth': False, 'V_air': False, 'V_element': False, 'V_joke': False, 'V_spend': True, 'V_key': False, 'V_biggest': False, 'V_members': False, 'V_effort': False, 'V_government': False, 'V_focus': False, 'V_eddie': False, 'V_soundtrack': False, 'V_hands': False, 'V_earlier': False, 'V_chan': False, 'V_purpose': False, 'V_today': False, 'V_showing': False, 'V_memorable': False, 'V_six': False, 'V_cannot': False, 'V_max': False, 'V_offers': False, 'V_rated': False, 'V_mars': False, 'V_heavy': False, 'V_totally': False, 'V_control': False, 'V_credit': False, 'V_fi': False, 'V_woody': False, 'V_ideas': False, 'V_sci': False, 'V_wait': False, 'V_sit': False, 'V_female': False, 'V_ask': False, 'V_waste': False, 'V_terrible': False, 'V_depth': False, 'V_simon': False, 'V_aspect': False, 'V_list': False, 'V_mary': False, 'V_sister': False, 'V_animation': False, 'V_entirely': False, 'V_fear': False, 'V_steven': False, 'V_moves': False, 'V_actual': False, 'V_army': False, 'V_british': False, 'V_constantly': False, 'V_fire': False, 'V_convincing': False, 'V_setting': False, 'V_gave': False, 'V_tension': False, 'V_street': False, 'V_8': False, 'V_brief': False, 'V_ridiculous': True, 'V_cinematography': False, 'V_typical': False, 'V_nick': False, 'V_screenwriter': False, 'V_ability': True, 'V_spent': False, 'V_quick': False, 'V_violent': False, 'V_atmosphere': False, 'V_subtle': False, 'V_expected': False, 'V_fairly': False, 'V_seven': False, 'V_killing': True, 'V_tone': False, 'V_master': False, 'V_disaster': False, 'V_lots': False, 'V_thinks': False, 'V_song': False, 'V_cheap': False, 'V_suddenly': False, 'V_background': False, 'V_club': False, 'V_willis': False, 'V_whatever': False, 'V_highly': False, 'V_sees': False, 'V_complex': False, 'V_greatest': False, 'V_impact': False, 'V_beauty': False, 'V_front': False, 'V_humans': False, 'V_indeed': False, 'V_flat': False, 'V_grace': False, 'V_wrote': False, 'V_amusing': False, 'V_ii': False, 'V_mike': False, 'V_further': False, 'V_cute': False, 'V_dull': False, 'V_minor': False, 'V_recently': False, 'V_hate': False, 'V_outside': False, 'V_plenty': False, 'V_wish': False, 'V_godzilla': False, 'V_college': False, 'V_titanic': False, 'V_sounds': False, 'V_telling': True, 'V_sight': False, 'V_double': False, 'V_cinematic': False, 'V_queen': False, 'V_hold': False, 'V_meanwhile': False, 'V_awful': False, 'V_clearly': False, 'V_theme': False, 'V_hear': False, 'V_x': False, 'V_amount': False, 'V_baby': False, 'V_approach': False, 'V_dreams': False, 'V_shown': False, 'V_island': False, 'V_reasons': False, 'V_charm': False, 'V_miss': False, 'V_longer': False, 'V_common': False, 'V_sean': False, 'V_carry': False, 'V_believable': False, 'V_realistic': False, 'V_chemistry': False, 'V_possibly': False, 'V_casting': False, 'V_carrey': False, 'V_french': False, 'V_trailer': False, 'V_tough': False, 'V_produced': False, 'V_imagine': False, 'V_choice': False, 'V_ride': False, 'V_somewhere': False, 'V_hot': False, 'V_race': False, 'V_road': False, 'V_leader': False, 'V_thin': False, 'V_jerry': False, 'V_slowly': False, 'V_delivers': False, 'V_detective': False, 'V_brown': False, 'V_jackson': False, 'V_member': False, 'V_provide': False, 'V_president': False, 'V_puts': False, 'V_asks': False, 'V_critics': False, 'V_appearance': False, 'V_famous': False, 'V_okay': False, 'V_intelligence': True, 'V_energy': False, 'V_sent': False, 'V_spielberg': False, 'V_development': False, 'V_etc': False, 'V_language': False, 'V_blue': False, 'V_proves': False, 'V_vampire': False, 'V_seemingly': False, 'V_basic': False, 'V_caught': False, 'V_decide': False, 'V_opportunity': False, 'V_incredibly': True, 'V_images': False, 'V_band': False, 'V_j': False, 'V_writers': False, 'V_knew': False, 'V_interested': False, 'V_considering': False, 'V_boys': False, 'V_thanks': False, 'V_remains': False, 'V_climax': False, 'V_event': False, 'V_directing': False, 'V_conclusion': False, 'V_leading': False, 'V_ground': False, 'V_lies': False, 'V_forget': False, 'V_alive': False, 'V_tarzan': False, 'V_century': False, 'V_provides': True, 'V_trip': False, 'V_partner': False, 'V_central': False, 'V_tarantino': False, 'V_period': False, 'V_pace': False, 'V_yourself': False, 'V_worked': False, 'V_ready': True, 'V_date': False, 'V_thus': False, 'V_1998': False, 'V_terrific': False, 'V_write': False, 'V_average': False, 'V_onto': False, 'V_songs': False, 'V_occasionally': False, 'V_doctor': False, 'V_stands': False, 'V_hardly': False, 'V_monster': False, 'V_led': False, 'V_mysterious': False, 'V_details': False, 'V_wasted': False, 'V_apart': False, 'V_aside': False, 'V_store': True, 'V_billy': False, 'V_boss': False, 'V_travolta': False, 'V_producer': False, 'V_pull': False, 'V_consider': False, 'V_pictures': False, 'V_becoming': False, 'V_cage': False, 'V_loud': False, 'V_looked': False, 'V_officer': False, 'V_twenty': False, 'V_system': False, 'V_contains': False, 'V_julia': False, 'V_subplot': False, 'V_missing': False, 'V_personality': False, 'V_building': True, 'V_learns': False, 'V_hong': False, 'V_la': False, 'V_apartment': False, 'V_7': False, 'V_bizarre': False, 'V_powers': False, 'V_flaws': False, 'V_catch': False, 'V_lawyer': False, 'V_shoot': False, 'V_student': False, 'V_unique': False, 'V_000': False, 'V_admit': False, 'V_concept': False, 'V_needed': False, 'V_thrown': False, 'V_christopher': False, 'V_laughing': False, 'V_green': False, 'V_twists': False, 'V_matthew': False, 'V_touch': False, 'V_waiting': False, 'V_victim': False, 'V_cover': False, 'V_machine': False, 'V_danny': False, 'V_mention': False, 'V_search': False, 'V_1997': False, 'V_win': True, 'V_door': False, 'V_manner': False, 'V_train': False, 'V_saving': False, 'V_share': False, 'V_image': False, 'V_discovers': False, 'V_normal': False, 'V_cross': False, 'V_fox': False, 'V_returns': False, 'V_adult': False, 'V_adds': False, 'V_answer': False, 'V_adventure': False, 'V_lame': False, 'V_male': False, 'V_odd': False, 'V_singer': False, 'V_deserves': False, 'V_gore': False, 'V_states': False, 'V_include': False, 'V_equally': False, 'V_months': False, 'V_barely': False, 'V_directors': False, 'V_introduced': False, 'V_fashion': False, 'V_social': False, 'V_1999': False, 'V_news': False, 'V_hair': False, 'V_dance': False, 'V_innocent': False, 'V_camp': False, 'V_teacher': False, 'V_became': False, 'V_sad': False, 'V_witch': False, 'V_includes': False, 'V_nights': False, 'V_jason': False, 'V_julie': False, 'V_latter': False, 'V_food': False, 'V_jennifer': False, 'V_land': False, 'V_menace': False, 'V_rate': False, 'V_storyline': False, 'V_contact': False, 'V_jean': False, 'V_elizabeth': False, 'V_fellow': False, 'V_changes': True, 'V_henry': False, 'V_hill': False, 'V_pulp': False, 'V_gay': False, 'V_tried': False, 'V_surprised': False, 'V_literally': False, 'V_walk': False, 'V_standard': False, 'V_90': False, 'V_forward': True, 'V_wise': False, 'V_enjoyed': False, 'V_discover': False, 'V_pop': False, 'V_anderson': False, 'V_offer': False, 'V_recommend': False, 'V_public': False, 'V_drive': False, 'V_c': False, 'V_toy': False, 'V_charming': False, 'V_fair': False, 'V_chinese': False, 'V_rescue': False, 'V_terms': False, 'V_mouth': False, 'V_lucas': False, 'V_accident': False, 'V_dies': False, 'V_decided': False, 'V_edge': False, 'V_footage': False, 'V_culture': False, 'V_weak': False, 'V_presented': True, 'V_blade': False, 'V_younger': False, 'V_douglas': False, 'V_natural': False, 'V_born': False, 'V_generally': False, 'V_teenage': False, 'V_older': False, 'V_horrible': True, 'V_addition': False, 'V_sadly': False, 'V_creates': False, 'V_disturbing': False, 'V_roger': False, 'V_detail': False, 'V_devil': False, 'V_debut': False, 'V_track': False, 'V_developed': False, 'V_week': False, 'V_russell': False, 'V_attack': False, 'V_explain': False, 'V_rarely': False, 'V_fully': False, 'V_prove': False, 'V_exception': False, 'V_jeff': False, 'V_twist': False, 'V_gang': False, 'V_winning': False, 'V_jr': False, 'V_species': False, 'V_issues': False, 'V_fresh': False, 'V_rules': False, 'V_meaning': False, 'V_inspired': False, 'V_heroes': False, 'V_desperate': False, 'V_fighting': False, 'V_filmed': False, 'V_faces': False, 'V_alan': False, 'V_bright': False, 'V_ass': False, 'V_flying': False, 'V_kong': False, 'V_rush': False, 'V_forces': False, 'V_charles': False, 'V_numerous': False, 'V_emotions': False, 'V_involves': False, 'V_patrick': False, 'V_weird': False, 'V_apparent': False, 'V_information': False, 'V_revenge': False, 'V_jay': False, 'V_toward': False, 'V_surprising': False, 'V_twice': False, 'V_editing': False, 'V_calls': False, 'V_lose': True, 'V_vegas': False, 'V_stage': False, 'V_intended': False, 'V_gags': False, 'V_opinion': False, 'V_likes': False, 'V_crazy': False, 'V_owner': False, 'V_places': True, 'V_pair': False, 'V_genuine': False, 'V_epic': False, 'V_speak': False, 'V_throw': False, 'V_appeal': False, 'V_gibson': False, 'V_captain': False, 'V_military': False, 'V_20': False, 'V_blair': False, 'V_nowhere': False, 'V_length': False, 'V_nicely': False, 'V_cause': False, 'V_pass': False, 'V_episode': False, 'V_kiss': False, 'V_arnold': False, 'V_please': False, 'V_hasn': False, 'V_phone': False, 'V_filmmaking': False, 'V_formula': False, 'V_boyfriend': False, 'V_talents': False, 'V_creating': False, 'V_kelly': False, 'V_buy': False, 'V_wide': False, 'V_fantasy': False, 'V_mood': False, 'V_heads': False, 'V_pathetic': True, 'V_lacks': False, 'V_loved': False, 'V_asked': False, 'V_mrs': False, 'V_witty': False, 'V_shakespeare': False, 'V_mulan': False, 'V_generation': False, 'V_affair': False, 'V_pieces': False, 'V_task': False, 'V_rare': False, 'V_kept': False, 'V_cameo': False, 'V_fascinating': False, 'V_ed': False, 'V_fbi': False, 'V_burton': False, 'V_incredible': False, 'V_accent': False, 'V_artist': False, 'V_superior': False, 'V_academy': False, 'V_thomas': False, 'V_spirit': True, 'V_technical': False, 'V_confusing': False, 'V_poorly': False, 'V_target': False, 'V_lover': False, 'V_woo': False, 'V_mentioned': True, 'V_theaters': False, 'V_plane': False, 'V_confused': False, 'V_dennis': False, 'V_rob': False, 'V_appropriate': False, 'V_christmas': False, 'V_considered': False, 'V_legend': False, 'V_shame': False, 'V_soul': False, 'V_matt': False, 'V_campbell': False, 'V_process': False, 'V_bottom': False, 'V_sitting': False, 'V_brain': False, 'V_creepy': False, 'V_13': False, 'V_forever': False, 'V_dude': False, 'V_crap': False, 'V_superb': False, 'V_speech': False, 'V_ice': False, 'V_journey': False, 'V_masterpiece': False, 'V_intriguing': False, 'V_names': False, 'V_pick': False, 'V_speaking': False, 'V_virtually': False, 'V_award': False, 'V_worthy': False, 'V_marriage': False, 'V_deliver': False, 'V_cash': False, 'V_magic': False, 'V_respect': False, 'V_product': False, 'V_necessary': False, 'V_suppose': False, 'V_silent': False, 'V_pointless': False, 'V_station': False, 'V_affleck': False, 'V_dimensional': False, 'V_charlie': False, 'V_allows': False, 'V_avoid': False, 'V_meant': False, 'V_cops': False, 'V_attitude': False, 'V_relationships': False, 'V_hits': False, 'V_stephen': False, 'V_spends': False, 'V_relief': False, 'V_physical': False, 'V_count': False, 'V_reviews': False, 'V_appreciate': False, 'V_cliches': False, 'V_holds': False, 'V_pure': False, 'V_plans': False, 'V_limited': False, 'V_failed': False, 'V_pain': False, 'V_impression': False, 'V_unless': False, 'V_sub': False, 'V_[': False, 'V_total': False, 'V_creature': False, 'V_viewing': False, 'V_loves': False, 'V_princess': False, 'V_kate': False, 'V_rising': False, 'V_woods': False, 'V_baldwin': False, 'V_angry': False, 'V_drawn': False, 'V_step': False, 'V_matrix': False, 'V_themes': False, 'V_satire': False, 'V_arts': False, 'V_]': False, 'V_remake': False, 'V_wall': False, 'V_moral': False, 'V_color': False, 'V_ray': False, 'V_stuck': False, 'V_touching': False, 'V_wit': False, 'V_tony': False, 'V_hanks': False, 'V_continues': False, 'V_damn': False, 'V_nobody': True, 'V_cartoon': False, 'V_keeping': False, 'V_realized': False, 'V_criminal': False, 'V_unfunny': False, 'V_comedic': False, 'V_martial': False, 'V_disappointing': False, 'V_anti': False, 'V_graphic': False, 'V_stunning': False, 'V_actions': False, 'V_floor': False, 'V_emotion': False, 'V_soldiers': False, 'V_edward': False, 'V_comedies': False, 'V_driver': False, 'V_expectations': False, 'V_added': False, 'V_mad': False, 'V_angels': False, 'V_shallow': False, 'V_suspect': False, 'V_humorous': False, 'V_phantom': False, 'V_appealing': False, 'V_device': False, 'V_design': False, 'V_industry': False, 'V_reach': False, 'V_fat': False, 'V_blame': False, 'V_united': False, 'V_sign': False, 'V_portrayal': False, 'V_rocky': False, 'V_finale': False, 'V_grand': False, 'V_opposite': False, 'V_hotel': False, 'V_match': False, 'V_damme': False, 'V_speed': False, 'V_ok': False, 'V_loving': False, 'V_field': False, 'V_larry': False, 'V_urban': False, 'V_troopers': False, 'V_compared': False, 'V_apes': False, 'V_rose': False, 'V_falling': False, 'V_era': False, 'V_loses': False, 'V_adults': False, 'V_managed': False, 'V_dad': True, 'V_therefore': False, 'V_pg': False, 'V_results': False, 'V_guns': False, 'V_radio': False, 'V_lady': False, 'V_manage': False, 'V_spice': False, 'V_naked': False, 'V_started': False, 'V_intense': False, 'V_humanity': False, 'V_wonderfully': False, 'V_slasher': False, 'V_bland': False, 'V_imagination': False, 'V_walking': False, 'V_willing': False, 'V_horse': False, 'V_rent': False, 'V_mix': False, 'V_generated': False, 'V_g': False, 'V_utterly': False, 'V_scientist': False, 'V_washington': False, 'V_notice': False, 'V_players': False, 'V_teenagers': False, 'V_moore': True, 'V_board': False, 'V_price': False, 'V_frightening': False, 'V_tommy': False, 'V_spectacular': False, 'V_bored': False, 'V_jane': False, 'V_join': False, 'V_producers': False, 'V_johnny': False, 'V_zero': False, 'V_vampires': False, 'V_adaptation': False, 'V_dollars': False, 'V_parody': False, 'V_documentary': False, 'V_dvd': False, 'V_wayne': False, 'V_post': False, 'V_exist': False, 'V_matters': False, 'V_chosen': False, 'V_mel': False, 'V_attractive': False, 'V_plain': False, 'V_trust': False, 'V_safe': False, 'V_reading': False, 'V_hoping': False, 'V_protagonist': False, 'V_feelings': False, 'V_fate': False, 'V_finding': False, 'V_feet': False, 'V_visuals': False, 'V_spawn': False, 'V_compelling': False, 'V_hall': True, 'V_sympathetic': False, 'V_featuring': False, 'V_difference': False, 'V_professional': False, 'V_drugs': False, 'V_ford': False, 'V_shooting': False, 'V_gold': False, 'V_patch': False, 'V_build': False, 'V_boat': False, 'V_cruise': False, 'V_honest': False, 'V_media': False, 'V_flicks': True, 'V_bug': False, 'V_bringing': False, 'V_dangerous': False, 'V_watched': False, 'V_grant': False, 'V_smile': False, 'V_plus': True, 'V_shouldn': False, 'V_decision': False, 'V_visually': False, 'V_allow': False, 'V_starship': False, 'V_roberts': False, 'V_dying': False, 'V_portrayed': False, 'V_turning': False, 'V_believes': False, 'V_changed': False, 'V_shock': False, 'V_destroy': False, 'V_30': False, 'V_crowd': False, 'V_broken': False, 'V_tired': False, 'V_fail': False, 'V_south': False, 'V_died': False, 'V_cult': False, 'V_fake': False, 'V_vincent': False, 'V_identity': False, 'V_sexy': False, 'V_hunt': False, 'V_jedi': False, 'V_flynt': False, 'V_alex': False, 'V_engaging': False, 'V_serve': False, 'V_snake': False, 'V_yeah': False, 'V_expecting': False, 'V_100': False, 'V_decade': False, 'V_ups': False, 'V_constant': False, 'V_current': False, 'V_survive': False, 'V_jimmy': False, 'V_buddy': False, 'V_send': False, 'V_brooks': False, 'V_goofy': False, 'V_likable': False, 'V_humour': False, 'V_technology': False, 'V_files': False, 'V_babe': False, 'V_aspects': False, 'V_presents': False, 'V_kills': True, 'V_supposedly': False, 'V_eight': False, 'V_sandler': False, 'V_hospital': False, 'V_test': False, 'V_hidden': False, 'V_brian': False, 'V_books': False, 'V_promise': False, 'V_determined': False, 'V_professor': False, 'V_welcome': False, 'V_pleasure': False, 'V_succeeds': False, 'V_individual': False, 'V_annie': False, 'V_mob': False, 'V_ted': False, 'V_virus': False, 'V_content': False, 'V_gary': False, 'V_direct': False, 'V_contrived': False, 'V_carpenter': False, 'V_scale': False, 'V_sick': False, 'V_nasty': False, 'V_conflict': False, 'V_haunting': False, 'V_ghost': False, 'V_filmmaker': False, 'V_japanese': False, 'V_helps': False, 'V_fare': False, 'V_lucky': False, 'V_ultimate': False, 'V_window': False, 'V_support': False, 'V_goal': False, 'V_provided': False, 'V_genius': False, 'V_winner': False, 'V_taylor': False, 'V_fantastic': False, 'V_faith': False, 'V_lynch': False, 'V_fit': False, 'V_catherine': False, 'V_ms': False, 'V_paced': False, 'V_breaks': False, 'V_al': False, 'V_frame': False, 'V_travel': False, 'V_badly': False, 'V_available': False, 'V_cares': False, 'V_reeves': False, 'V_crash': False, 'V_driving': False, 'V_press': False, 'V_seagal': False, 'V_amy': False, 'V_9': False, 'V_headed': False, 'V_instance': False, 'V_excuse': False, 'V_offensive': False, 'V_narrative': False, 'V_fault': False, 'V_bus': False, 'V_f': False, 'V_extreme': False, 'V_miller': False, 'V_guilty': False, 'V_grows': False, 'V_overly': False, 'V_liners': False, 'V_forgotten': False, 'V_ahead': False, 'V_accept': False, 'V_porn': False, 'V_directly': False, 'V_helen': False, 'V_began': False, 'V_lord': False, 'V_folks': True, 'V_mediocre': False, 'V_bar': False, 'V_surface': False, 'V_super': False, 'V_failure': False, 'V_6': False, 'V_acted': False, 'V_quiet': False, 'V_laughable': False, 'V_sheer': False, 'V_security': False, 'V_emotionally': False, 'V_season': False, 'V_stuart': False, 'V_jail': False, 'V_deals': False, 'V_cheesy': False, 'V_court': False, 'V_beach': False, 'V_austin': False, 'V_model': False, 'V_outstanding': False, 'V_substance': False, 'V_nudity': False, 'V_slapstick': False, 'V_joan': False, 'V_reveal': False, 'V_placed': False, 'V_check': False, 'V_beast': False, 'V_hurt': False, 'V_bloody': False, 'V_acts': False, 'V_fame': False, 'V_meeting': False, 'V_nuclear': True, 'V_1996': False, 'V_strength': False, 'V_center': False, 'V_funniest': False, 'V_standing': False, 'V_damon': False, 'V_clich': False, 'V_position': False, 'V_desire': False, 'V_driven': False, 'V_seat': False, 'V_stock': False, 'V_wondering': False, 'V_realizes': False, 'V_dealing': False, 'V_taste': False, 'V_routine': False, 'V_comparison': False, 'V_cinematographer': False, 'V_seconds': False, 'V_singing': False, 'V_gangster': False, 'V_responsible': False, 'V_football': False, 'V_remarkable': False, 'V_hunting': False, 'V_adams': False, 'V_fly': False, 'V_suspects': False, 'V_treat': False, 'V_hopes': False, 'V_heaven': False, 'V_myers': False, 'V_struggle': False, 'V_costumes': False, 'V_beat': False, 'V_happening': False, 'V_skills': False, 'V_ugly': False, 'V_figures': False, 'V_thoroughly': False, 'V_ill': True, 'V_surprises': False, 'V_player': False, 'V_rival': False, 'V_guard': False, 'V_anthony': False, 'V_strike': False, 'V_community': False, 'V_streets': False, 'V_hopkins': False, 'V_ended': False, 'V_originally': False, 'V_sarah': False, 'V_creative': False, 'V_characterization': False, 'V_thankfully': True, 'V_growing': False, 'V_sharp': False, 'V_williamson': False, 'V_eccentric': False, 'V_explained': False, 'V_hey': False, 'V_claire': False, 'V_steal': False, 'V_inevitable': False, 'V_joel': False, 'V_core': False, 'V_weren': False, 'V_sorry': True, 'V_built': True, 'V_anne': False, 'V_breaking': False, 'V_villains': False, 'V_critic': False, 'V_lets': True, 'V_visit': False, 'V_followed': False}, 'neg')\n"
     ]
    }
   ],
   "source": [
    "# define features (keywords) of a document\n",
    "# each feature is 'contains(keyword)' and is true or false depending\n",
    "# on whether that keyword is in the document\n",
    "def document_features(document, word_features):\n",
    "    document_words = set(document)\n",
    "    features = {}\n",
    "    for word in word_features:\n",
    "        features['V_%s' % word] = (word in document_words)\n",
    "    return features\n",
    "\n",
    "# get features sets for a document, including keyword features and category feature\n",
    "featuresets = [(document_features(d, word_features), c) for (d,c) in documents]\n",
    "\n",
    "# the feature sets are 2000 words long - so this is optional\n",
    "print(featuresets[0])"
   ]
  },
  {
   "cell_type": "code",
   "execution_count": 42,
   "metadata": {},
   "outputs": [
    {
     "name": "stdout",
     "output_type": "stream",
     "text": [
      "0.79\n"
     ]
    }
   ],
   "source": [
    "# training using naive Baysian classifier with a 95/5 split\n",
    "train_set, test_set = featuresets[100:], featuresets[:100]\n",
    "classifier = nltk.NaiveBayesClassifier.train(train_set)\n",
    "\n",
    "# evaluate the accuracy of the classifier\n",
    "print (nltk.classify.accuracy(classifier, test_set))\n",
    "# the accuracy result may vary since we randomized the documents\n"
   ]
  },
  {
   "cell_type": "code",
   "execution_count": 43,
   "metadata": {},
   "outputs": [
    {
     "name": "stdout",
     "output_type": "stream",
     "text": [
      "Most Informative Features\n",
      "           V_outstanding = True              pos : neg    =     11.5 : 1.0\n",
      "                 V_mulan = True              pos : neg    =      8.3 : 1.0\n",
      "                V_seagal = True              neg : pos    =      8.2 : 1.0\n",
      "           V_wonderfully = True              pos : neg    =      7.0 : 1.0\n",
      "                 V_damon = True              pos : neg    =      6.1 : 1.0\n",
      "                  V_lame = True              neg : pos    =      5.3 : 1.0\n",
      "                 V_awful = True              neg : pos    =      5.1 : 1.0\n",
      "                V_wasted = True              neg : pos    =      5.1 : 1.0\n",
      "                 V_waste = True              neg : pos    =      5.0 : 1.0\n",
      "                 V_flynt = True              pos : neg    =      5.0 : 1.0\n",
      "            V_ridiculous = True              neg : pos    =      5.0 : 1.0\n",
      "                 V_snake = True              neg : pos    =      4.8 : 1.0\n",
      "                V_poorly = True              neg : pos    =      4.7 : 1.0\n",
      "                   V_era = True              pos : neg    =      4.6 : 1.0\n",
      "                 V_worst = True              neg : pos    =      4.6 : 1.0\n",
      "               V_unfunny = True              neg : pos    =      4.4 : 1.0\n",
      "                 V_bland = True              neg : pos    =      4.4 : 1.0\n",
      "                V_allows = True              pos : neg    =      4.3 : 1.0\n",
      "                V_stupid = True              neg : pos    =      4.3 : 1.0\n",
      "                  V_mess = True              neg : pos    =      3.9 : 1.0\n",
      "                  V_jedi = True              pos : neg    =      3.9 : 1.0\n",
      "              V_terrific = True              pos : neg    =      3.8 : 1.0\n",
      "             V_portrayed = True              pos : neg    =      3.8 : 1.0\n",
      "             V_fantastic = True              pos : neg    =      3.8 : 1.0\n",
      "             V_memorable = True              pos : neg    =      3.7 : 1.0\n",
      "                  V_dull = True              neg : pos    =      3.7 : 1.0\n",
      "             V_portrayal = True              pos : neg    =      3.7 : 1.0\n",
      "                V_boring = True              neg : pos    =      3.6 : 1.0\n",
      "             V_laughable = True              neg : pos    =      3.6 : 1.0\n",
      "             V_pointless = True              neg : pos    =      3.6 : 1.0\n",
      "None\n"
     ]
    }
   ],
   "source": [
    "# show which features of classifier are most informative\n",
    "print(classifier.show_most_informative_features(30))"
   ]
  }
 ],
 "metadata": {
  "kernelspec": {
   "display_name": "Python 3",
   "language": "python",
   "name": "python3"
  },
  "language_info": {
   "codemirror_mode": {
    "name": "ipython",
    "version": 3
   },
   "file_extension": ".py",
   "mimetype": "text/x-python",
   "name": "python",
   "nbconvert_exporter": "python",
   "pygments_lexer": "ipython3",
   "version": "3.7.6"
  }
 },
 "nbformat": 4,
 "nbformat_minor": 4
}
