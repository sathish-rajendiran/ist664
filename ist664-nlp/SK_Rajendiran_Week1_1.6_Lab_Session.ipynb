{
 "cells": [
  {
   "cell_type": "markdown",
   "metadata": {},
   "source": [
    "Name: Sathish Kumar Rajendiran\n",
    "Chapter 1: Language Processing and Python\n",
    "Date: 10/04/2020\n",
    "Week: 1"
   ]
  },
  {
   "cell_type": "code",
   "execution_count": 33,
   "metadata": {},
   "outputs": [
    {
     "data": {
      "text/plain": [
       "'/Users/sathishrajendiran/ist664-nlp'"
      ]
     },
     "execution_count": 33,
     "metadata": {},
     "output_type": "execute_result"
    }
   ],
   "source": [
    "#import libraries\n",
    "\n",
    "# standard library\n",
    "import os\n",
    "import sys\n",
    "from datetime import datetime\n",
    "import time\n",
    "\n",
    "# csv, xls, pandas & json\n",
    "import pandas as pd\n",
    "import json\n",
    "import csv\n",
    "import xlrd\n",
    "\n",
    "# Language Processing\n",
    "import nltk\n",
    "\n",
    "os.getcwd()"
   ]
  },
  {
   "cell_type": "code",
   "execution_count": 2,
   "metadata": {},
   "outputs": [
    {
     "name": "stdout",
     "output_type": "stream",
     "text": [
      "showing info https://raw.githubusercontent.com/nltk/nltk_data/gh-pages/index.xml\n"
     ]
    },
    {
     "data": {
      "text/plain": [
       "True"
      ]
     },
     "execution_count": 2,
     "metadata": {},
     "output_type": "execute_result"
    }
   ],
   "source": [
    "#Downloading the NLTK Book Collection\n",
    "nltk.download()"
   ]
  },
  {
   "cell_type": "markdown",
   "metadata": {},
   "source": [
    "Working with Text from the NLTK Gutenberg corpora"
   ]
  },
  {
   "cell_type": "code",
   "execution_count": 34,
   "metadata": {},
   "outputs": [
    {
     "data": {
      "text/plain": [
       "['austen-emma.txt',\n",
       " 'austen-persuasion.txt',\n",
       " 'austen-sense.txt',\n",
       " 'bible-kjv.txt',\n",
       " 'blake-poems.txt',\n",
       " 'bryant-stories.txt',\n",
       " 'burgess-busterbrown.txt',\n",
       " 'carroll-alice.txt',\n",
       " 'chesterton-ball.txt',\n",
       " 'chesterton-brown.txt',\n",
       " 'chesterton-thursday.txt',\n",
       " 'edgeworth-parents.txt',\n",
       " 'melville-moby_dick.txt',\n",
       " 'milton-paradise.txt',\n",
       " 'shakespeare-caesar.txt',\n",
       " 'shakespeare-hamlet.txt',\n",
       " 'shakespeare-macbeth.txt',\n",
       " 'whitman-leaves.txt']"
      ]
     },
     "execution_count": 34,
     "metadata": {},
     "output_type": "execute_result"
    }
   ],
   "source": [
    "nltk.corpus.gutenberg.fileids()"
   ]
  },
  {
   "cell_type": "code",
   "execution_count": 35,
   "metadata": {},
   "outputs": [],
   "source": [
    "file14 = nltk.corpus.gutenberg.fileids() [14]"
   ]
  },
  {
   "cell_type": "code",
   "execution_count": 5,
   "metadata": {},
   "outputs": [
    {
     "data": {
      "text/plain": [
       "'shakespeare-caesar.txt'"
      ]
     },
     "execution_count": 5,
     "metadata": {},
     "output_type": "execute_result"
    }
   ],
   "source": [
    "file14"
   ]
  },
  {
   "cell_type": "code",
   "execution_count": 36,
   "metadata": {},
   "outputs": [],
   "source": [
    "spcaesartext = nltk.corpus.gutenberg.raw(file14)"
   ]
  },
  {
   "cell_type": "code",
   "execution_count": 37,
   "metadata": {},
   "outputs": [
    {
     "data": {
      "text/plain": [
       "112310"
      ]
     },
     "execution_count": 37,
     "metadata": {},
     "output_type": "execute_result"
    }
   ],
   "source": [
    "len(spcaesartext)"
   ]
  },
  {
   "cell_type": "code",
   "execution_count": 38,
   "metadata": {},
   "outputs": [
    {
     "data": {
      "text/plain": [
       "'[The Tragedie of Julius Caesar by William Shakespeare 1599]\\n\\n\\nActus Primus. Scoena Prima.\\n\\nEnter Flauius, Murellus, and '"
      ]
     },
     "execution_count": 38,
     "metadata": {},
     "output_type": "execute_result"
    }
   ],
   "source": [
    "spcaesartext[:120]"
   ]
  },
  {
   "cell_type": "code",
   "execution_count": 39,
   "metadata": {},
   "outputs": [],
   "source": [
    "spcaesartokens = nltk.word_tokenize(spcaesartext)"
   ]
  },
  {
   "cell_type": "code",
   "execution_count": 40,
   "metadata": {},
   "outputs": [
    {
     "data": {
      "text/plain": [
       "25251"
      ]
     },
     "execution_count": 40,
     "metadata": {},
     "output_type": "execute_result"
    }
   ],
   "source": [
    "len(spcaesartokens)"
   ]
  },
  {
   "cell_type": "code",
   "execution_count": 41,
   "metadata": {},
   "outputs": [
    {
     "data": {
      "text/plain": [
       "['[',\n",
       " 'The',\n",
       " 'Tragedie',\n",
       " 'of',\n",
       " 'Julius',\n",
       " 'Caesar',\n",
       " 'by',\n",
       " 'William',\n",
       " 'Shakespeare',\n",
       " '1599',\n",
       " ']',\n",
       " 'Actus',\n",
       " 'Primus',\n",
       " '.',\n",
       " 'Scoena',\n",
       " 'Prima',\n",
       " '.',\n",
       " 'Enter',\n",
       " 'Flauius',\n",
       " ',',\n",
       " 'Murellus',\n",
       " ',',\n",
       " 'and',\n",
       " 'certaine',\n",
       " 'Commoners',\n",
       " 'ouer',\n",
       " 'the',\n",
       " 'Stage',\n",
       " '.',\n",
       " 'Flauius',\n",
       " '.',\n",
       " 'Hence',\n",
       " ':',\n",
       " 'home',\n",
       " 'you',\n",
       " 'idle',\n",
       " 'Creatures',\n",
       " ',',\n",
       " 'get',\n",
       " 'you',\n",
       " 'home',\n",
       " ':',\n",
       " 'Is',\n",
       " 'this',\n",
       " 'a',\n",
       " 'Holiday',\n",
       " '?',\n",
       " 'What',\n",
       " ',',\n",
       " 'know']"
      ]
     },
     "execution_count": 41,
     "metadata": {},
     "output_type": "execute_result"
    }
   ],
   "source": [
    "spcaesartokens[:50]"
   ]
  },
  {
   "cell_type": "code",
   "execution_count": 42,
   "metadata": {},
   "outputs": [],
   "source": [
    "spcaesarwords = [w.lower( ) for w in spcaesartokens]"
   ]
  },
  {
   "cell_type": "code",
   "execution_count": 15,
   "metadata": {},
   "outputs": [
    {
     "data": {
      "text/plain": [
       "25251"
      ]
     },
     "execution_count": 15,
     "metadata": {},
     "output_type": "execute_result"
    }
   ],
   "source": [
    "len(spcaesarwords)"
   ]
  },
  {
   "cell_type": "code",
   "execution_count": 16,
   "metadata": {},
   "outputs": [
    {
     "data": {
      "text/plain": [
       "['[',\n",
       " 'the',\n",
       " 'tragedie',\n",
       " 'of',\n",
       " 'julius',\n",
       " 'caesar',\n",
       " 'by',\n",
       " 'william',\n",
       " 'shakespeare',\n",
       " '1599',\n",
       " ']',\n",
       " 'actus',\n",
       " 'primus',\n",
       " '.',\n",
       " 'scoena',\n",
       " 'prima',\n",
       " '.',\n",
       " 'enter',\n",
       " 'flauius',\n",
       " ',',\n",
       " 'murellus',\n",
       " ',',\n",
       " 'and',\n",
       " 'certaine',\n",
       " 'commoners',\n",
       " 'ouer',\n",
       " 'the',\n",
       " 'stage',\n",
       " '.',\n",
       " 'flauius',\n",
       " '.',\n",
       " 'hence',\n",
       " ':',\n",
       " 'home',\n",
       " 'you',\n",
       " 'idle',\n",
       " 'creatures',\n",
       " ',',\n",
       " 'get',\n",
       " 'you',\n",
       " 'home',\n",
       " ':',\n",
       " 'is',\n",
       " 'this',\n",
       " 'a',\n",
       " 'holiday',\n",
       " '?',\n",
       " 'what',\n",
       " ',',\n",
       " 'know']"
      ]
     },
     "execution_count": 16,
     "metadata": {},
     "output_type": "execute_result"
    }
   ],
   "source": [
    "spcaesarwords[:50]"
   ]
  },
  {
   "cell_type": "code",
   "execution_count": 17,
   "metadata": {},
   "outputs": [],
   "source": [
    "spcaesarvocab = sorted(set(spcaesarwords))"
   ]
  },
  {
   "cell_type": "code",
   "execution_count": 18,
   "metadata": {},
   "outputs": [
    {
     "data": {
      "text/plain": [
       "3091"
      ]
     },
     "execution_count": 18,
     "metadata": {},
     "output_type": "execute_result"
    }
   ],
   "source": [
    "len(spcaesarvocab)"
   ]
  },
  {
   "cell_type": "code",
   "execution_count": 43,
   "metadata": {},
   "outputs": [
    {
     "data": {
      "text/plain": [
       "['!',\n",
       " '&',\n",
       " \"'\",\n",
       " \"'d\",\n",
       " \"'em\",\n",
       " \"'re\",\n",
       " \"'s\",\n",
       " \"'t\",\n",
       " \"'tis\",\n",
       " \"'twas\",\n",
       " \"'tweene\",\n",
       " \"'twere\",\n",
       " \"'twixt\",\n",
       " '(',\n",
       " ')',\n",
       " ',',\n",
       " '-',\n",
       " '.',\n",
       " '1',\n",
       " '1.ple',\n",
       " '1.sold',\n",
       " '1599',\n",
       " '2',\n",
       " '2.ple',\n",
       " '2.sold',\n",
       " '3',\n",
       " '3.ple',\n",
       " '4',\n",
       " '4.ple',\n",
       " ':',\n",
       " ';',\n",
       " '?',\n",
       " '[',\n",
       " ']',\n",
       " 'a',\n",
       " 'a-float',\n",
       " 'a-foot',\n",
       " 'a-nights',\n",
       " 'a-part',\n",
       " 'a-weary',\n",
       " 'a-while',\n",
       " 'abide',\n",
       " 'abler',\n",
       " 'aboue',\n",
       " 'about',\n",
       " \"abridg'd\",\n",
       " 'abroad',\n",
       " 'absence',\n",
       " 'absent',\n",
       " 'abuse']"
      ]
     },
     "execution_count": 43,
     "metadata": {},
     "output_type": "execute_result"
    }
   ],
   "source": [
    "spcaesarvocab[:50]"
   ]
  },
  {
   "cell_type": "code",
   "execution_count": 20,
   "metadata": {},
   "outputs": [
    {
     "data": {
      "text/plain": [
       "1"
      ]
     },
     "execution_count": 20,
     "metadata": {},
     "output_type": "execute_result"
    }
   ],
   "source": [
    "spcaesarwords.count('absent')"
   ]
  },
  {
   "cell_type": "code",
   "execution_count": 22,
   "metadata": {},
   "outputs": [
    {
     "data": {
      "text/plain": [
       "579"
      ]
     },
     "execution_count": 22,
     "metadata": {},
     "output_type": "execute_result"
    }
   ],
   "source": [
    "spcaesarwords.count('the')"
   ]
  },
  {
   "cell_type": "markdown",
   "metadata": {},
   "source": [
    "Using NLTK Frequency Distributions to Count Words"
   ]
  },
  {
   "cell_type": "code",
   "execution_count": 24,
   "metadata": {},
   "outputs": [],
   "source": [
    "from nltk import FreqDist"
   ]
  },
  {
   "cell_type": "code",
   "execution_count": 25,
   "metadata": {},
   "outputs": [],
   "source": [
    "fdist = FreqDist(spcaesarwords)"
   ]
  },
  {
   "cell_type": "code",
   "execution_count": 26,
   "metadata": {},
   "outputs": [],
   "source": [
    "fdistkeys = list(fdist.keys())"
   ]
  },
  {
   "cell_type": "code",
   "execution_count": 27,
   "metadata": {},
   "outputs": [
    {
     "data": {
      "text/plain": [
       "['[',\n",
       " 'the',\n",
       " 'tragedie',\n",
       " 'of',\n",
       " 'julius',\n",
       " 'caesar',\n",
       " 'by',\n",
       " 'william',\n",
       " 'shakespeare',\n",
       " '1599',\n",
       " ']',\n",
       " 'actus',\n",
       " 'primus',\n",
       " '.',\n",
       " 'scoena',\n",
       " 'prima',\n",
       " 'enter',\n",
       " 'flauius',\n",
       " ',',\n",
       " 'murellus',\n",
       " 'and',\n",
       " 'certaine',\n",
       " 'commoners',\n",
       " 'ouer',\n",
       " 'stage',\n",
       " 'hence',\n",
       " ':',\n",
       " 'home',\n",
       " 'you',\n",
       " 'idle',\n",
       " 'creatures',\n",
       " 'get',\n",
       " 'is',\n",
       " 'this',\n",
       " 'a',\n",
       " 'holiday',\n",
       " '?',\n",
       " 'what',\n",
       " 'know',\n",
       " 'not',\n",
       " '(',\n",
       " 'being',\n",
       " 'mechanicall',\n",
       " ')',\n",
       " 'ought',\n",
       " 'walke',\n",
       " 'vpon',\n",
       " 'labouring',\n",
       " 'day',\n",
       " 'without']"
      ]
     },
     "execution_count": 27,
     "metadata": {},
     "output_type": "execute_result"
    }
   ],
   "source": [
    "fdistkeys[:50]"
   ]
  },
  {
   "cell_type": "code",
   "execution_count": 116,
   "metadata": {},
   "outputs": [
    {
     "data": {
      "text/plain": [
       "855"
      ]
     },
     "execution_count": 116,
     "metadata": {},
     "output_type": "execute_result"
    }
   ],
   "source": [
    "fdist['emma']"
   ]
  },
  {
   "cell_type": "code",
   "execution_count": 117,
   "metadata": {},
   "outputs": [
    {
     "data": {
      "text/plain": [
       "5201"
      ]
     },
     "execution_count": 117,
     "metadata": {},
     "output_type": "execute_result"
    }
   ],
   "source": [
    "fdist['the']"
   ]
  },
  {
   "cell_type": "code",
   "execution_count": 28,
   "metadata": {},
   "outputs": [],
   "source": [
    "topkeys = fdist.most_common(30)"
   ]
  },
  {
   "cell_type": "code",
   "execution_count": 29,
   "metadata": {},
   "outputs": [
    {
     "name": "stdout",
     "output_type": "stream",
     "text": [
      "(',', 2204)\n",
      "('.', 1275)\n",
      "('and', 627)\n",
      "('the', 579)\n",
      "('i', 530)\n",
      "(':', 499)\n",
      "('to', 446)\n",
      "('you', 391)\n",
      "('of', 354)\n",
      "('?', 296)\n",
      "('that', 289)\n",
      "('is', 269)\n",
      "('not', 263)\n",
      "('a', 259)\n",
      "('in', 225)\n",
      "('my', 209)\n",
      "('it', 198)\n",
      "(\"'d\", 193)\n",
      "('caesar', 190)\n",
      "('me', 187)\n",
      "('he', 177)\n",
      "('for', 176)\n",
      "('this', 166)\n",
      "('him', 166)\n",
      "('will', 163)\n",
      "('brutus', 161)\n",
      "('his', 157)\n",
      "('bru', 153)\n",
      "('your', 149)\n",
      "('with', 149)\n"
     ]
    }
   ],
   "source": [
    "for pair in topkeys:\n",
    "    print(pair)"
   ]
  },
  {
   "cell_type": "code",
   "execution_count": 31,
   "metadata": {},
   "outputs": [],
   "source": [
    "numwords = len(spcaesarwords)"
   ]
  },
  {
   "cell_type": "code",
   "execution_count": 32,
   "metadata": {},
   "outputs": [
    {
     "name": "stdout",
     "output_type": "stream",
     "text": [
      "(',', 8.72836719337848)\n",
      "('.', 5.049304978020673)\n",
      "('and', 2.4830699774266365)\n",
      "('the', 2.2929784959011523)\n",
      "('i', 2.0989267751772207)\n",
      "(':', 1.9761593600253455)\n",
      "('to', 1.7662666825076234)\n",
      "('you', 1.5484535265930062)\n",
      "('of', 1.4019246762504456)\n",
      "('?', 1.1722308027404855)\n",
      "('that', 1.1445091283513524)\n",
      "('is', 1.0653043443824006)\n",
      "('not', 1.0415429091917152)\n",
      "('a', 1.025701952397925)\n",
      "('in', 0.891053819650707)\n",
      "('my', 0.8276899924755455)\n",
      "('it', 0.7841273612926221)\n",
      "(\"'d\", 0.7643261653003841)\n",
      "('caesar', 0.7524454477050414)\n",
      "('me', 0.7405647301096986)\n",
      "('he', 0.7009623381252228)\n",
      "('for', 0.6970020989267752)\n",
      "('this', 0.6573997069422993)\n",
      "('him', 0.6573997069422993)\n",
      "('will', 0.6455189893469565)\n",
      "('brutus', 0.6375985109500614)\n",
      "('his', 0.621757554156271)\n",
      "('bru', 0.6059165973624807)\n",
      "('your', 0.5900756405686903)\n",
      "('with', 0.5900756405686903)\n"
     ]
    }
   ],
   "source": [
    "# divide each freq (count) by the total number of words\n",
    "topkeysnormalized = [(word, freq*100 / numwords) for (word, freq) in topkeys]\n",
    "for pair in topkeysnormalized:\n",
    "    print(pair)"
   ]
  }
 ],
 "metadata": {
  "kernelspec": {
   "display_name": "Python 3",
   "language": "python",
   "name": "python3"
  },
  "language_info": {
   "codemirror_mode": {
    "name": "ipython",
    "version": 3
   },
   "file_extension": ".py",
   "mimetype": "text/x-python",
   "name": "python",
   "nbconvert_exporter": "python",
   "pygments_lexer": "ipython3",
   "version": "3.7.6"
  }
 },
 "nbformat": 4,
 "nbformat_minor": 4
}
