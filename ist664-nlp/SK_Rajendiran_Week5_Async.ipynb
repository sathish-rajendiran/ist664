{
 "cells": [
  {
   "cell_type": "markdown",
   "metadata": {},
   "source": [
    "Name: Sathish Kumar Rajendiran\n",
    "Chapter :  POS Tagging and Introduction to Machine Learning\n",
    "Date: 10/23/2020\n",
    "Week: 4"
   ]
  },
  {
   "cell_type": "code",
   "execution_count": 1,
   "metadata": {},
   "outputs": [
    {
     "data": {
      "text/plain": [
       "'/Users/sathishrajendiran/ist664-nlp'"
      ]
     },
     "execution_count": 1,
     "metadata": {},
     "output_type": "execute_result"
    }
   ],
   "source": [
    "#import libraries\n",
    "\n",
    "# standard library\n",
    "import os\n",
    "import sys\n",
    "from datetime import datetime\n",
    "import time\n",
    "\n",
    "# csv, xls, pandas & json\n",
    "import pandas as pd\n",
    "import json\n",
    "import csv\n",
    "import xlrd\n",
    "\n",
    "# Language Processing\n",
    "import nltk\n",
    "from nltk import FreqDist\n",
    "\n",
    "# web requests\n",
    "from urllib import request\n",
    "\n",
    "\n",
    "##  Regular Expression to match non-alphabetic characters\n",
    "import re\n",
    "\n",
    "os.getcwd()"
   ]
  },
  {
   "cell_type": "markdown",
   "metadata": {},
   "source": [
    "## Running Parsers with Context Free Grammars"
   ]
  },
  {
   "cell_type": "code",
   "execution_count": 2,
   "metadata": {},
   "outputs": [],
   "source": [
    "grammar = nltk.CFG.fromstring(\"\"\"\n",
    "S -> NP VP\n",
    "VP -> V NP | V NP PP\n",
    "PP -> P NP\n",
    "V -> \"saw\" | \"ate\" | \"walked\"\n",
    "NP -> Prop | Det Nom\n",
    "Prop -> \"John\" | \"Mary\" | \"Bob\" \n",
    "Nom -> N | N PP\n",
    "Det -> \"a\" | \"an\" | \"the\" | \"my\"\n",
    "N -> \"man\" | \"dog\" | \"cat\" | \"telescope\" | \"park\"\n",
    "P -> \"in\" | \"on\" | \"by\" | \"with\"\n",
    "\"\"\")"
   ]
  },
  {
   "cell_type": "code",
   "execution_count": 3,
   "metadata": {},
   "outputs": [],
   "source": [
    "# top-down parsing\n",
    "rd_parser = nltk.RecursiveDescentParser(grammar)\n",
    "# rd_parser"
   ]
  },
  {
   "cell_type": "code",
   "execution_count": 4,
   "metadata": {},
   "outputs": [],
   "source": [
    "senttext = \"Mary saw Bob\"\n",
    "sentlist = senttext.split()\n",
    "trees = rd_parser.parse(sentlist)"
   ]
  },
  {
   "cell_type": "code",
   "execution_count": 5,
   "metadata": {},
   "outputs": [
    {
     "name": "stdout",
     "output_type": "stream",
     "text": [
      "(S (NP (Prop Mary)) (VP (V saw) (NP (Prop Bob))))\n"
     ]
    }
   ],
   "source": [
    "treelist = list(trees)\n",
    "type(treelist[0]) \n",
    "for tree in treelist:\n",
    "    print (tree)"
   ]
  },
  {
   "cell_type": "code",
   "execution_count": 6,
   "metadata": {},
   "outputs": [
    {
     "name": "stdout",
     "output_type": "stream",
     "text": [
      "(S\n",
      "  (NP (Prop John))\n",
      "  (VP\n",
      "    (V saw)\n",
      "    (NP\n",
      "      (Det the)\n",
      "      (Nom\n",
      "        (N man)\n",
      "        (PP\n",
      "          (P in)\n",
      "          (NP\n",
      "            (Det the)\n",
      "            (Nom\n",
      "              (N park)\n",
      "              (PP (P with) (NP (Det a) (Nom (N telescope)))))))))))\n",
      "(S\n",
      "  (NP (Prop John))\n",
      "  (VP\n",
      "    (V saw)\n",
      "    (NP (Det the) (Nom (N man)))\n",
      "    (PP\n",
      "      (P in)\n",
      "      (NP\n",
      "        (Det the)\n",
      "        (Nom (N park) (PP (P with) (NP (Det a) (Nom (N telescope)))))))))\n",
      "(S\n",
      "  (NP (Prop John))\n",
      "  (VP\n",
      "    (V saw)\n",
      "    (NP\n",
      "      (Det the)\n",
      "      (Nom (N man) (PP (P in) (NP (Det the) (Nom (N park))))))\n",
      "    (PP (P with) (NP (Det a) (Nom (N telescope))))))\n"
     ]
    }
   ],
   "source": [
    "sent2list = \"John saw the man in the park with a telescope\".split()\n",
    "for tree in rd_parser.parse(sent2list):\n",
    "    print (tree)\n"
   ]
  },
  {
   "cell_type": "code",
   "execution_count": 7,
   "metadata": {},
   "outputs": [],
   "source": [
    "groucho_grammar = nltk.CFG.fromstring(\"\"\"\n",
    "  S -> NP VP\n",
    "  VP -> V NP | V NP PP\n",
    "  PP -> P NP\n",
    "  V -> \"saw\" | \"ate\" | \"walked\" | \"shot\"\n",
    "  NP -> Pronoun | Prop | Det N | Det N PP\n",
    "  Prop -> \"John\" | \"Mary\" | \"Bob\"\n",
    "  Pronoun -> \"I\"\n",
    "  Det -> \"a\" | \"an\" | \"the\" | \"my\"\n",
    "  N -> \"man\" | \"dog\" | \"cat\" | \"telescope\" | \"park\" | \"elephant\" | \"pajamas\"\n",
    "  P -> \"in\" | \"on\" | \"by\" | \"with\"\n",
    "  \"\"\")"
   ]
  },
  {
   "cell_type": "code",
   "execution_count": 8,
   "metadata": {},
   "outputs": [
    {
     "name": "stdout",
     "output_type": "stream",
     "text": [
      "(S\n",
      "  (NP (Pronoun I))\n",
      "  (VP\n",
      "    (V shot)\n",
      "    (NP (Det an) (N elephant) (PP (P in) (NP (Det my) (N pajamas))))))\n",
      "(S\n",
      "  (NP (Pronoun I))\n",
      "  (VP\n",
      "    (V shot)\n",
      "    (NP (Det an) (N elephant))\n",
      "    (PP (P in) (NP (Det my) (N pajamas)))))\n"
     ]
    }
   ],
   "source": [
    "sent4list = \"I shot an elephant in my pajamas\".split()\n",
    "rd_parser = nltk.RecursiveDescentParser(groucho_grammar)\n",
    "for tree in rd_parser.parse(sent4list):\n",
    "    print (tree)"
   ]
  },
  {
   "cell_type": "code",
   "execution_count": 9,
   "metadata": {},
   "outputs": [],
   "source": [
    "flight_grammar = nltk.CFG.fromstring(\"\"\"\n",
    "  S -> NP VP | VP\n",
    "  VP -> V NP | V NP PP\n",
    "  PP -> P NP\n",
    "  V -> \"saw\" | \"ate\" | \"walked\" | \"shot\" | \"book\"\n",
    "  NP -> Prop | Det N | Det N PP\n",
    "  Prop -> \"John\" | \"Mary\" | \"Bob\" | \"I\"\n",
    "  Det -> \"a\" | \"an\" | \"the\" | \"my\" | \"that\"\n",
    "  N -> \"man\" | \"dog\" | \"cat\" | \"telescope\" | \"park\" | \"elephant\" | \"pajamas\" | \"flight\"\n",
    "  P -> \"in\" | \"on\" | \"by\" | \"with\"\n",
    "  \"\"\")"
   ]
  },
  {
   "cell_type": "code",
   "execution_count": 10,
   "metadata": {},
   "outputs": [
    {
     "name": "stdout",
     "output_type": "stream",
     "text": [
      "(S (VP (V book) (NP (Det that) (N flight))))\n"
     ]
    }
   ],
   "source": [
    "rd_parser = nltk.RecursiveDescentParser(flight_grammar)\n",
    "sent5list = 'book that flight'.split()\n",
    "for tree in rd_parser.parse(sent5list):\n",
    "    print (tree)"
   ]
  },
  {
   "cell_type": "markdown",
   "metadata": {},
   "source": [
    "# Lab Week 5 \n",
    "Text for Lab Question"
   ]
  },
  {
   "cell_type": "code",
   "execution_count": 11,
   "metadata": {},
   "outputs": [],
   "source": [
    "# extend the flight grammar:\n",
    "actual_flight_grammar = nltk.CFG.fromstring(\"\"\"\n",
    "  S -> NP VP | VP\n",
    "  VP -> V NP | V NP PP\n",
    "  PP -> P NP\n",
    "  V -> \"saw\" | \"ate\" | \"walked\" | \"shot\" | \"book\"\n",
    "  NP -> Prop | Det N | Det N PP\n",
    "  Prop -> \"John\" | \"Mary\" | \"Bob\" | \"I\"\n",
    "  Det -> \"a\" | \"an\" | \"the\" | \"my\" | \"that\"\n",
    "  N -> \"man\" | \"dog\" | \"cat\" | \"telescope\" | \"park\" | \"elephant\" | \"pajamas\" | \"flight\"\n",
    "  P -> \"in\" | \"on\" | \"by\" | \"with\" | \"I\"\n",
    "  \"\"\")"
   ]
  },
  {
   "cell_type": "code",
   "execution_count": 12,
   "metadata": {},
   "outputs": [],
   "source": [
    "# Define sentences for the question\n",
    "sentex1 = \"I prefer a flight through Houston\".split()\n",
    "sentex2 = \"Jack walked with the dog\".split()\n",
    "sentex3 = \"John gave the dog a bone\".split()\n",
    "sentex4 = \"I want to book that flight\".split()"
   ]
  },
  {
   "cell_type": "code",
   "execution_count": 13,
   "metadata": {},
   "outputs": [],
   "source": [
    "# extend the flight grammar:\n",
    "flight_grammar = nltk.CFG.fromstring(\"\"\"\n",
    "  S -> NP VP | VP \n",
    "  VP -> V NP | V NP PP | V PP | V TO VP | V NP NP\n",
    "  NP -> Prop | Det N | Det N PP \n",
    "  PP -> P NP \n",
    "  V -> \"saw\" | \"ate\" | \"walked\" | \"shot\"  | \"prefer\" |\"gave\" |\"want\" | \"book\"\n",
    "  Prop -> \"John\" | \"Mary\" | \"Bob\"  | \"Jack\" | \"Houston\" | \"I\"\n",
    "  Det -> \"a\" | \"an\" | \"the\" | \"my\" | \"that\" \n",
    "  N -> \"man\" | \"dog\" | \"cat\" | \"telescope\" | \"park\" | \"elephant\" | \"pajamas\" | \"flight\" | \"bone\" \n",
    "  P -> \"in\" | \"on\" | \"by\" | \"with\" | \"through\" \n",
    "  TO -> \"to\"\n",
    "  \"\"\")"
   ]
  },
  {
   "cell_type": "code",
   "execution_count": 14,
   "metadata": {},
   "outputs": [
    {
     "name": "stdout",
     "output_type": "stream",
     "text": [
      "(S\n",
      "  (NP (Prop I))\n",
      "  (VP\n",
      "    (V prefer)\n",
      "    (NP (Det a) (N flight) (PP (P through) (NP (Prop Houston))))))\n",
      "(S\n",
      "  (NP (Prop I))\n",
      "  (VP\n",
      "    (V prefer)\n",
      "    (NP (Det a) (N flight))\n",
      "    (PP (P through) (NP (Prop Houston)))))\n"
     ]
    }
   ],
   "source": [
    "# I prefer a flight through Houston\n",
    "\n",
    "# redefine rd_parser when you change the flight grammar\n",
    "rd_parser = nltk.RecursiveDescentParser(flight_grammar)\n",
    "for tree in rd_parser.parse(sentex1):   \n",
    "    print (tree)"
   ]
  },
  {
   "cell_type": "code",
   "execution_count": 15,
   "metadata": {},
   "outputs": [
    {
     "name": "stdout",
     "output_type": "stream",
     "text": [
      "(S\n",
      "  (NP (Prop Jack))\n",
      "  (VP (V walked) (PP (P with) (NP (Det the) (N dog)))))\n"
     ]
    }
   ],
   "source": [
    "# Jack walked with the dog\n",
    "# redefine rd_parser when you change the flight grammar\n",
    "rd_parser = nltk.RecursiveDescentParser(flight_grammar)\n",
    "for tree in rd_parser.parse(sentex2):   \n",
    "    print (tree)"
   ]
  },
  {
   "cell_type": "code",
   "execution_count": 16,
   "metadata": {},
   "outputs": [
    {
     "name": "stdout",
     "output_type": "stream",
     "text": [
      "(S\n",
      "  (NP (Prop John))\n",
      "  (VP (V gave) (NP (Det the) (N dog)) (NP (Det a) (N bone))))\n"
     ]
    }
   ],
   "source": [
    "# John gave the dog a bone\n",
    "# redefine rd_parser when you change the flight grammar\n",
    "rd_parser = nltk.RecursiveDescentParser(flight_grammar)\n",
    "for tree in rd_parser.parse(sentex3):   \n",
    "    print (tree)"
   ]
  },
  {
   "cell_type": "code",
   "execution_count": 17,
   "metadata": {},
   "outputs": [
    {
     "name": "stdout",
     "output_type": "stream",
     "text": [
      "(S\n",
      "  (NP (Prop I))\n",
      "  (VP (V want) (TO to) (VP (V book) (NP (Det that) (N flight)))))\n"
     ]
    }
   ],
   "source": [
    "# I want to book that flight\n",
    "# redefine rd_parser when you change the flight grammar\n",
    "rd_parser = nltk.RecursiveDescentParser(flight_grammar)\n",
    "for tree in rd_parser.parse(sentex4):   \n",
    "    print (tree)"
   ]
  },
  {
   "cell_type": "markdown",
   "metadata": {},
   "source": [
    "# Probabilistic Context-Free Grammars and Subcategories of Verbs"
   ]
  },
  {
   "cell_type": "code",
   "execution_count": 18,
   "metadata": {},
   "outputs": [],
   "source": [
    "prob_grammar = nltk.PCFG.fromstring(\"\"\"\n",
    "  S -> NP VP [0.9]| VP  [0.1]\n",
    "  VP -> TranV NP [0.3]\n",
    "  VP -> InV  [0.3]\n",
    "  VP -> DatV NP PP  [0.4]\n",
    "  PP -> P NP   [1.0]\n",
    "  TranV -> \"saw\" [0.2] | \"ate\" [0.2] | \"walked\" [0.2] | \"shot\" [0.2] | \"book\" [0.2]\n",
    "  InV -> \"ate\" [0.5] | \"walked\" [0.5]\n",
    "  DatV -> \"gave\" [0.2] | \"ate\" [0.2] | \"saw\" [0.2] | \"walked\" [0.2] | \"shot\" [0.2]\n",
    "  NP -> Prop [0.2]| Det N [0.4] | Det N PP [0.4]\n",
    "  Prop -> \"John\" [0.25]| \"Mary\" [0.25] | \"Bob\" [0.25] | \"I\" [0.25] \n",
    "  Det -> \"a\" [0.2] | \"an\" [0.2] | \"the\" [0.2] | \"my\" [0.2] | \"that\" [0.2]\n",
    "  N -> \"man\" [0.15] | \"dog\" [0.15] | \"cat\" [0.15] | \"park\" [0.15] | \"telescope\" [0.1] | \"flight\" [0.1] | \"elephant\" [0.1] | \"pajamas\" [0.1]\n",
    "  P -> \"in\" [0.2] | \"on\" [0.2] | \"by\" [0.2] | \"with\" [0.2] | \"through\" [0.2]\n",
    "  \"\"\")\n"
   ]
  },
  {
   "cell_type": "code",
   "execution_count": 19,
   "metadata": {},
   "outputs": [
    {
     "name": "stdout",
     "output_type": "stream",
     "text": [
      "(S\n",
      "  (NP (Prop John))\n",
      "  (VP (TranV saw) (NP (Det a) (N telescope)))) (p=2.16e-05)\n"
     ]
    }
   ],
   "source": [
    "viterbi_parser = nltk.ViterbiParser(prob_grammar)\n",
    "for tree in viterbi_parser.parse(['John', 'saw', 'a', 'telescope']):\n",
    "    print (tree)\n"
   ]
  },
  {
   "cell_type": "code",
   "execution_count": 20,
   "metadata": {},
   "outputs": [
    {
     "name": "stdout",
     "output_type": "stream",
     "text": [
      "(S\n",
      "  (NP (Prop John))\n",
      "  (VP\n",
      "    (DatV saw)\n",
      "    (NP\n",
      "      (Det the)\n",
      "      (N man)\n",
      "      (PP (P in) (NP (Det the) (N park))))\n",
      "    (PP (P with) (NP (Det a) (N telescope))))) (p=1.65888e-10)\n"
     ]
    }
   ],
   "source": [
    "for tree in viterbi_parser.parse(sent2list):\n",
    "    print (tree)"
   ]
  },
  {
   "cell_type": "code",
   "execution_count": 21,
   "metadata": {},
   "outputs": [
    {
     "name": "stdout",
     "output_type": "stream",
     "text": [
      "(S\n",
      "  (NP (Prop I))\n",
      "  (VP\n",
      "    (DatV shot)\n",
      "    (NP (Det an) (N elephant))\n",
      "    (PP (P in) (NP (Det my) (N pajamas))))) (p=4.608e-08)\n"
     ]
    }
   ],
   "source": [
    "for tree in viterbi_parser.parse(sent4list):\n",
    "    print (tree)\n"
   ]
  },
  {
   "cell_type": "markdown",
   "metadata": {},
   "source": [
    "# Dependency Grammars"
   ]
  },
  {
   "cell_type": "code",
   "execution_count": 22,
   "metadata": {},
   "outputs": [],
   "source": [
    "groucho_dep_grammar = nltk. DependencyGrammar.fromstring (\"\"\"\n",
    "  'shot' -> 'I' | 'elephant' | 'in'\n",
    "  'elephant' -> 'an' | 'in'\n",
    "  'in' -> 'pajamas'\n",
    "  'pajamas' -> 'my'\n",
    "  \"\"\")\n"
   ]
  },
  {
   "cell_type": "code",
   "execution_count": 23,
   "metadata": {},
   "outputs": [
    {
     "name": "stdout",
     "output_type": "stream",
     "text": [
      "Dependency grammar with 7 productions\n",
      "  'shot' -> 'I'\n",
      "  'shot' -> 'elephant'\n",
      "  'shot' -> 'in'\n",
      "  'elephant' -> 'an'\n",
      "  'elephant' -> 'in'\n",
      "  'in' -> 'pajamas'\n",
      "  'pajamas' -> 'my'\n",
      "(shot I (elephant an (in (pajamas my))))\n",
      "(shot I (elephant an) (in (pajamas my)))\n"
     ]
    }
   ],
   "source": [
    "print (groucho_dep_grammar)\n",
    "pdp = nltk.ProjectiveDependencyParser(groucho_dep_grammar)\n",
    "glist = 'I shot an elephant in my pajamas'.split()\n",
    "trees = pdp.parse(glist)\n",
    "for tree in trees:\n",
    "    print (tree)\n"
   ]
  },
  {
   "cell_type": "markdown",
   "metadata": {},
   "source": [
    "# 5.3 Context-Free Grammars"
   ]
  },
  {
   "cell_type": "code",
   "execution_count": 24,
   "metadata": {},
   "outputs": [],
   "source": [
    "#CFG Grammer - top down parser\n",
    "\n",
    "CFG_grammar = nltk.CFG.fromstring(\"\"\"\n",
    "S  -> NP VP\n",
    "VP -> V NP | V NP PP | V PP\n",
    "NP -> Prop | Det N | Det N PP\n",
    "PP -> P NP\n",
    "V  -> \"saw\" | \"ate\" | \"walked\"\n",
    "Prop -> \"John\" | \"Mary\" | \"Bob\"\n",
    "Det -> \"a\" | \"an\" | \"the\" | \"my\"\n",
    "N -> \"man\" | \"dog\" | \"cat\" | \"telescope\" | \"park\"\n",
    "P -> \"in\" | \"on\" | \"by\" | \"with\"\n",
    "\"\"\")"
   ]
  },
  {
   "cell_type": "code",
   "execution_count": 25,
   "metadata": {},
   "outputs": [
    {
     "name": "stdout",
     "output_type": "stream",
     "text": [
      "(S\n",
      "  (NP (Prop Bob))\n",
      "  (VP\n",
      "    (V saw)\n",
      "    (NP\n",
      "      (Det a)\n",
      "      (N man)\n",
      "      (PP\n",
      "        (P in)\n",
      "        (NP\n",
      "          (Det the)\n",
      "          (N park)\n",
      "          (PP (P with) (NP (Det a) (N telescope))))))))\n",
      "(S\n",
      "  (NP (Prop Bob))\n",
      "  (VP\n",
      "    (V saw)\n",
      "    (NP (Det a) (N man))\n",
      "    (PP\n",
      "      (P in)\n",
      "      (NP\n",
      "        (Det the)\n",
      "        (N park)\n",
      "        (PP (P with) (NP (Det a) (N telescope)))))))\n",
      "(S\n",
      "  (NP (Prop Bob))\n",
      "  (VP\n",
      "    (V saw)\n",
      "    (NP (Det a) (N man) (PP (P in) (NP (Det the) (N park))))\n",
      "    (PP (P with) (NP (Det a) (N telescope)))))\n"
     ]
    }
   ],
   "source": [
    "\n",
    "sentex5 = 'Bob saw a man in the park with a telescope'.split()\n",
    "\n",
    "# redefine rd_parser when you change the flight grammar\n",
    "rd_parser = nltk.RecursiveDescentParser(CFG_grammar)\n",
    "for tree in rd_parser.parse(sentex5):   \n",
    "    print (tree)"
   ]
  },
  {
   "attachments": {
    "image.jpeg": {
     "image/jpeg": "[encoded data removed]"
    }
   },
   "cell_type": "markdown",
   "metadata": {},
   "source": [
    "![image.jpeg](attachment:image.jpeg)"
   ]
  },
  {
   "attachments": {
    "image.jpeg": {
     "image/jpeg": "[encoded data removed]"
    }
   },
   "cell_type": "markdown",
   "metadata": {},
   "source": [
    "![image.jpeg](attachment:image.jpeg)\n"
   ]
  },
  {
   "attachments": {
    "image.jpeg": {
     "image/jpeg": "[encoded data removed]"
    }
   },
   "cell_type": "markdown",
   "metadata": {},
   "source": [
    "![image.jpeg](attachment:image.jpeg)"
   ]
  },
  {
   "cell_type": "code",
   "execution_count": 26,
   "metadata": {},
   "outputs": [
    {
     "name": "stdout",
     "output_type": "stream",
     "text": [
      "(S\n",
      "  (NP (Det the) (N man) (PP (P with) (NP (Det a) (N cat))))\n",
      "  (VP (V saw) (NP (Det my) (N dog))))\n"
     ]
    }
   ],
   "source": [
    "sentex6 = 'the man with a cat saw my dog'.split()\n",
    "\n",
    "# redefine rd_parser when you change the flight grammar\n",
    "rd_parser = nltk.RecursiveDescentParser(CFG_grammar)\n",
    "for tree in rd_parser.parse(sentex6):   \n",
    "    print (tree)"
   ]
  },
  {
   "attachments": {
    "image.jpeg": {
     "image/jpeg": "[encoded data removed]"
    }
   },
   "cell_type": "markdown",
   "metadata": {},
   "source": [
    "![image.jpeg](attachment:image.jpeg)"
   ]
  },
  {
   "cell_type": "code",
   "execution_count": 27,
   "metadata": {},
   "outputs": [
    {
     "name": "stdout",
     "output_type": "stream",
     "text": [
      "(S (NP (Prop John)) (VP (V ate) (PP (P in) (NP (Det the) (N park)))))\n"
     ]
    }
   ],
   "source": [
    "sentex7 = 'John ate in the park'.split()\n",
    "\n",
    "# redefine rd_parser when you change the flight grammar\n",
    "rd_parser = nltk.RecursiveDescentParser(CFG_grammar)\n",
    "for tree in rd_parser.parse(sentex7):   \n",
    "    print (tree)"
   ]
  },
  {
   "attachments": {
    "image.jpeg": {
     "image/jpeg": "[encoded data removed]"
    }
   },
   "cell_type": "markdown",
   "metadata": {},
   "source": [
    "![image.jpeg](attachment:image.jpeg)"
   ]
  }
 ],
 "metadata": {
  "kernelspec": {
   "display_name": "Python 3",
   "language": "python",
   "name": "python3"
  },
  "language_info": {
   "codemirror_mode": {
    "name": "ipython",
    "version": 3
   },
   "file_extension": ".py",
   "mimetype": "text/x-python",
   "name": "python",
   "nbconvert_exporter": "python",
   "pygments_lexer": "ipython3",
   "version": "3.7.6"
  }
 },
 "nbformat": 4,
 "nbformat_minor": 4
}
